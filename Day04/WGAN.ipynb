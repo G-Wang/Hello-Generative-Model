{
 "cells": [
  {
   "cell_type": "code",
   "execution_count": 43,
   "metadata": {
    "ExecuteTime": {
     "end_time": "2018-01-05T16:20:53.909992Z",
     "start_time": "2018-01-05T16:20:53.874540Z"
    },
    "collapsed": true
   },
   "outputs": [],
   "source": [
    "import torch\n",
    "import torch.nn as nn\n",
    "from torch.autograd import Variable\n",
    "import torch.optim as optim\n",
    "import matplotlib.pyplot as plt\n",
    "import matplotlib.gridspec as gridspec\n",
    "import os\n",
    "from utils.visdom_utils import VisFunc"
   ]
  },
  {
   "cell_type": "code",
   "execution_count": 44,
   "metadata": {
    "ExecuteTime": {
     "end_time": "2018-01-05T16:20:54.277363Z",
     "start_time": "2018-01-05T16:20:54.222457Z"
    },
    "collapsed": true
   },
   "outputs": [],
   "source": [
    "from torch.utils.data import DataLoader\n",
    "from torchvision import datasets, transforms"
   ]
  },
  {
   "cell_type": "code",
   "execution_count": 45,
   "metadata": {
    "ExecuteTime": {
     "end_time": "2018-01-05T16:40:30.927684Z",
     "start_time": "2018-01-05T16:40:30.896890Z"
    },
    "collapsed": true
   },
   "outputs": [],
   "source": [
    "mb_size = 100\n",
    "\n",
    "X_dim = 28 * 28\n",
    "h_dim = 128\n",
    "z_dim = 10\n",
    "\n",
    "cnt = 0\n",
    "lr = 1e-4"
   ]
  },
  {
   "cell_type": "markdown",
   "metadata": {},
   "source": [
    "# MNIST Data"
   ]
  },
  {
   "cell_type": "code",
   "execution_count": 46,
   "metadata": {
    "ExecuteTime": {
     "end_time": "2018-01-05T16:40:56.112899Z",
     "start_time": "2018-01-05T16:40:56.031434Z"
    }
   },
   "outputs": [],
   "source": [
    "transform = transforms.ToTensor()\n",
    "mnist = datasets.MNIST(root='./dataset2',\n",
    "                       train=True,\n",
    "                       transform=transform,\n",
    "                       download=True)\n",
    "mnist_loader = DataLoader(mnist, batch_size=mb_size)"
   ]
  },
  {
   "cell_type": "code",
   "execution_count": 47,
   "metadata": {
    "ExecuteTime": {
     "end_time": "2018-01-05T16:40:56.402487Z",
     "start_time": "2018-01-05T16:40:56.361783Z"
    }
   },
   "outputs": [
    {
     "data": {
      "text/plain": [
       "60000"
      ]
     },
     "execution_count": 47,
     "metadata": {},
     "output_type": "execute_result"
    }
   ],
   "source": [
    "len(mnist)"
   ]
  },
  {
   "cell_type": "code",
   "execution_count": 48,
   "metadata": {
    "ExecuteTime": {
     "end_time": "2018-01-05T16:40:56.687029Z",
     "start_time": "2018-01-05T16:40:56.619862Z"
    }
   },
   "outputs": [
    {
     "data": {
      "text/plain": [
       "600"
      ]
     },
     "execution_count": 48,
     "metadata": {},
     "output_type": "execute_result"
    }
   ],
   "source": [
    "len(mnist_loader)"
   ]
  },
  {
   "cell_type": "markdown",
   "metadata": {},
   "source": [
    "# Define Model"
   ]
  },
  {
   "cell_type": "code",
   "execution_count": 49,
   "metadata": {
    "ExecuteTime": {
     "end_time": "2018-01-05T16:40:57.087571Z",
     "start_time": "2018-01-05T16:40:57.044060Z"
    },
    "collapsed": true,
    "run_control": {
     "marked": false
    }
   },
   "outputs": [],
   "source": [
    "# Generator\n",
    "G = torch.nn.Sequential(\n",
    "    torch.nn.Linear(z_dim, h_dim),\n",
    "    torch.nn.ReLU(),\n",
    "    torch.nn.Linear(h_dim, X_dim),\n",
    "    torch.nn.Sigmoid()\n",
    ")\n",
    "\n",
    "# Critic \n",
    "D = torch.nn.Sequential(\n",
    "    torch.nn.Linear(X_dim, h_dim),\n",
    "    torch.nn.ReLU(),\n",
    "    torch.nn.Linear(h_dim, 1),\n",
    ")"
   ]
  },
  {
   "cell_type": "code",
   "execution_count": 50,
   "metadata": {
    "ExecuteTime": {
     "end_time": "2018-01-05T16:40:57.312567Z",
     "start_time": "2018-01-05T16:40:57.266392Z"
    },
    "collapsed": true
   },
   "outputs": [],
   "source": [
    "def reset_grad():\n",
    "    G.zero_grad()\n",
    "    D.zero_grad()"
   ]
  },
  {
   "cell_type": "code",
   "execution_count": 51,
   "metadata": {
    "ExecuteTime": {
     "end_time": "2018-01-05T16:40:57.524459Z",
     "start_time": "2018-01-05T16:40:57.477612Z"
    },
    "collapsed": true
   },
   "outputs": [],
   "source": [
    "# Optimizer for Generator\n",
    "G_solver = optim.RMSprop(G.parameters(), lr=lr)\n",
    "\n",
    "# Optimizer for Critic\n",
    "D_solver = optim.RMSprop(D.parameters(), lr=lr)\n",
    "\n",
    "# Visdom\n",
    "env_name = 'WGAN'\n",
    "vf = VisFunc(enval=env_name)"
   ]
  },
  {
   "cell_type": "code",
   "execution_count": null,
   "metadata": {
    "ExecuteTime": {
     "end_time": "2018-01-05T16:44:12.225583Z",
     "start_time": "2018-01-05T16:40:57.784947Z"
    }
   },
   "outputs": [
    {
     "name": "stdout",
     "output_type": "stream",
     "text": [
      "Epoch 0 | [50/600] | D_loss: -0.96 | G_loss: 0.79\n",
      "Epoch 0 | [100/600] | D_loss: -0.94 | G_loss: 0.84\n",
      "Epoch 0 | [150/600] | D_loss: -0.88 | G_loss: 0.86\n",
      "Epoch 0 | [200/600] | D_loss: -0.84 | G_loss: 0.89\n",
      "Epoch 0 | [250/600] | D_loss: -0.74 | G_loss: 0.88\n",
      "Epoch 0 | [300/600] | D_loss: -0.68 | G_loss: 0.89\n",
      "Epoch 0 | [350/600] | D_loss: -0.65 | G_loss: 0.90\n",
      "Epoch 0 | [400/600] | D_loss: -0.62 | G_loss: 0.90\n",
      "Epoch 0 | [450/600] | D_loss: -0.61 | G_loss: 0.88\n",
      "Epoch 0 | [500/600] | D_loss: -0.58 | G_loss: 0.87\n",
      "Epoch 0 | [550/600] | D_loss: -0.52 | G_loss: 0.87\n",
      "Epoch 0 | [600/600] | D_loss: -0.53 | G_loss: 0.87\n",
      "Epoch 1 | [50/600] | D_loss: -0.48 | G_loss: 0.84\n",
      "Epoch 1 | [100/600] | D_loss: -0.51 | G_loss: 0.82\n",
      "Epoch 1 | [150/600] | D_loss: -0.46 | G_loss: 0.80\n",
      "Epoch 1 | [200/600] | D_loss: -0.49 | G_loss: 0.80\n",
      "Epoch 1 | [250/600] | D_loss: -0.42 | G_loss: 0.80\n",
      "Epoch 1 | [300/600] | D_loss: -0.35 | G_loss: 0.79\n"
     ]
    }
   ],
   "source": [
    "for epoch in range(200):\n",
    "    mnist_iter = iter(mnist_loader)\n",
    "    it = 0\n",
    "    while it < len(mnist_loader):\n",
    "\n",
    "        ################\n",
    "        # Train Critic #\n",
    "        ################\n",
    "        for _ in range(5):\n",
    "            # Sample data\n",
    "            z = Variable(torch.randn(mb_size, z_dim))\n",
    "            X, _ = next(mnist_iter)\n",
    "            X = X.view(mb_size, -1)\n",
    "            X = Variable(X)\n",
    "\n",
    "            # forward-loss-backward-update\n",
    "            G_sample = G(z)\n",
    "            D_real = D(X)\n",
    "            D_fake = D(G_sample)\n",
    "\n",
    "            D_loss = -(torch.mean(D_real) - torch.mean(D_fake))\n",
    "\n",
    "            D_loss.backward()\n",
    "            D_solver.step()\n",
    "\n",
    "            # Weight clipping\n",
    "            for p in D.parameters():\n",
    "                p.data.clamp_(-0.01, 0.01)\n",
    "\n",
    "            # Reset gradient\n",
    "            reset_grad()\n",
    "            \n",
    "            it += 1\n",
    "\n",
    "        ###################\n",
    "        # Train Generator #\n",
    "        ###################\n",
    "\n",
    "        # forward-loss-backward-update\n",
    "        z = Variable(torch.randn(mb_size, z_dim))\n",
    "\n",
    "        G_sample = G(z)\n",
    "        D_fake = D(G_sample)\n",
    "\n",
    "        G_loss = -torch.mean(D_fake)\n",
    "\n",
    "        G_loss.backward()\n",
    "        G_solver.step()\n",
    "\n",
    "        # Reset gradient\n",
    "        reset_grad()\n",
    "\n",
    "        # Print and plot\n",
    "        if it % 50 == 0:\n",
    "            print('Epoch {} | [{}/{}] | D_loss: {:.2f} | G_loss: {:.2f}'\n",
    "                  .format(epoch, it, len(mnist_loader),\n",
    "                          float(D_loss.data), float(G_loss.data)))\n",
    "            \n",
    "            samples = G(z).data.numpy()[:100]\n",
    "\n",
    "            fig = plt.figure(figsize=(10, 10))\n",
    "            gs = gridspec.GridSpec(10, 10)\n",
    "            gs.update(wspace=0.05, hspace=0.05)\n",
    "\n",
    "            for i, sample in enumerate(samples):\n",
    "                ax = plt.subplot(gs[i])\n",
    "                plt.axis('off')\n",
    "                ax.set_xticklabels([])\n",
    "                ax.set_yticklabels([])\n",
    "                ax.set_aspect('equal')\n",
    "                plt.imshow(sample.reshape(28, 28), cmap='Greys_r')\n",
    "\n",
    "            if not os.path.exists('out/'):\n",
    "                os.makedirs('out/')\n",
    "\n",
    "            plt.savefig('out/{}.png'.format(str(cnt).zfill(3)), bbox_inches='tight')\n",
    "           # vf.imshow_multi(sample.data, nrow=10, title='', factor=1)            \n",
    "\n",
    "            cnt += 1\n",
    "            plt.close(fig)"
   ]
  },
  {
   "cell_type": "code",
   "execution_count": null,
   "metadata": {},
   "outputs": [],
   "source": []
  }
 ],
 "metadata": {
  "kernelspec": {
   "display_name": "Python [conda env:py36]",
   "language": "python",
   "name": "conda-env-py36-py"
  },
  "language_info": {
   "codemirror_mode": {
    "name": "ipython",
    "version": 3
   },
   "file_extension": ".py",
   "mimetype": "text/x-python",
   "name": "python",
   "nbconvert_exporter": "python",
   "pygments_lexer": "ipython3",
   "version": "3.6.3"
  },
  "varInspector": {
   "cols": {
    "lenName": 16,
    "lenType": 16,
    "lenVar": 40
   },
   "kernels_config": {
    "python": {
     "delete_cmd_postfix": "",
     "delete_cmd_prefix": "del ",
     "library": "var_list.py",
     "varRefreshCmd": "print(var_dic_list())"
    },
    "r": {
     "delete_cmd_postfix": ") ",
     "delete_cmd_prefix": "rm(",
     "library": "var_list.r",
     "varRefreshCmd": "cat(var_dic_list()) "
    }
   },
   "types_to_exclude": [
    "module",
    "function",
    "builtin_function_or_method",
    "instance",
    "_Feature"
   ],
   "window_display": false
  }
 },
 "nbformat": 4,
 "nbformat_minor": 2
}
