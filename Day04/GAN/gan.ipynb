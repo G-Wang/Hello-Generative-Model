{
 "cells": [
  {
   "cell_type": "markdown",
   "metadata": {},
   "source": [
    "## 1. 모듈/라이브러리 임포트"
   ]
  },
  {
   "cell_type": "code",
   "execution_count": 61,
   "metadata": {
    "ExecuteTime": {
     "end_time": "2017-12-16T02:02:36.276630Z",
     "start_time": "2017-12-16T02:02:35.792785Z"
    }
   },
   "outputs": [],
   "source": [
    "import torch, os\n",
    "import torchvision\n",
    "import torch.nn as nn\n",
    "import torch.nn.functional as F\n",
    "from torchvision import datasets\n",
    "from torchvision import transforms\n",
    "from torchvision.utils import save_image\n",
    "from torchvision.utils import make_grid\n",
    "from torch.autograd import Variable\n",
    "import matplotlib.pyplot as plt"
   ]
  },
  {
   "cell_type": "markdown",
   "metadata": {},
   "source": [
    "## 2. 하이퍼 파라메터 세팅"
   ]
  },
  {
   "cell_type": "code",
   "execution_count": 62,
   "metadata": {
    "ExecuteTime": {
     "end_time": "2017-12-16T02:02:38.862946Z",
     "start_time": "2017-12-16T02:02:38.856359Z"
    }
   },
   "outputs": [],
   "source": [
    "max_epoch = 20\n",
    "batch_size = 100\n",
    "lr = 0.0002\n",
    "z_dim = 64\n",
    "output_dir = './output/'\n",
    "if not os.path.exists(output_dir) : os.makedirs(output_dir)"
   ]
  },
  {
   "cell_type": "markdown",
   "metadata": {},
   "source": [
    "## 3. 데이터 준비"
   ]
  },
  {
   "cell_type": "code",
   "execution_count": 63,
   "metadata": {
    "ExecuteTime": {
     "end_time": "2017-12-16T02:03:14.022784Z",
     "start_time": "2017-12-16T02:02:40.781358Z"
    }
   },
   "outputs": [],
   "source": [
    "# Image processing\n",
    "transform = transforms.Compose([\n",
    "                transforms.ToTensor(),\n",
    "                transforms.Normalize(mean=(0.5, 0.5, 0.5),\n",
    "                                     std=(0.5, 0.5, 0.5))])\n",
    "# MNIST dataset\n",
    "mnist = datasets.MNIST(root='./data/',\n",
    "                       train=True,\n",
    "                       transform=transform,\n",
    "                       download=True)\n",
    "# Data loader\n",
    "data_loader = torch.utils.data.DataLoader(dataset=mnist,\n",
    "                                          batch_size=batch_size,\n",
    "                                          shuffle=True,\n",
    "                                          drop_last=True)"
   ]
  },
  {
   "cell_type": "markdown",
   "metadata": {},
   "source": [
    "## 4. 모델 정의"
   ]
  },
  {
   "cell_type": "markdown",
   "metadata": {},
   "source": [
    "<img src=\"./GAN.png\" width=\"400\">"
   ]
  },
  {
   "cell_type": "code",
   "execution_count": 64,
   "metadata": {
    "ExecuteTime": {
     "end_time": "2017-12-16T02:04:01.389072Z",
     "start_time": "2017-12-16T02:03:58.609390Z"
    }
   },
   "outputs": [],
   "source": [
    "# Discriminator\n",
    "D = nn.Sequential(\n",
    "    nn.Linear(784, 256),\n",
    "    nn.LeakyReLU(0.2),\n",
    "    nn.Linear(256, 256),\n",
    "    nn.LeakyReLU(0.2),\n",
    "    nn.Linear(256, 1),\n",
    "    nn.Sigmoid())\n",
    "\n",
    "# Generator\n",
    "G = nn.Sequential(\n",
    "    nn.Linear(z_dim, 256),\n",
    "    nn.LeakyReLU(0.2),\n",
    "    nn.Linear(256, 256),\n",
    "    nn.LeakyReLU(0.2),\n",
    "    nn.Linear(256, 784),\n",
    "    nn.Tanh())\n",
    "\n",
    "if torch.cuda.is_available():\n",
    "    D.cuda()\n",
    "    G.cuda()"
   ]
  },
  {
   "cell_type": "markdown",
   "metadata": {},
   "source": [
    "## 5. Loss/Optimizer"
   ]
  },
  {
   "cell_type": "code",
   "execution_count": 65,
   "metadata": {
    "ExecuteTime": {
     "end_time": "2017-12-16T02:08:22.958823Z",
     "start_time": "2017-12-16T02:08:22.950934Z"
    }
   },
   "outputs": [],
   "source": [
    "# Binary cross entropy loss and optimizer\n",
    "criterion = nn.BCELoss()\n",
    "d_optimizer = torch.optim.Adam(D.parameters(), lr=lr)\n",
    "g_optimizer = torch.optim.Adam(G.parameters(), lr=lr)"
   ]
  },
  {
   "cell_type": "markdown",
   "metadata": {},
   "source": [
    "## 6. 기타 함수"
   ]
  },
  {
   "cell_type": "code",
   "execution_count": 66,
   "metadata": {
    "ExecuteTime": {
     "end_time": "2017-12-16T02:08:23.841215Z",
     "start_time": "2017-12-16T02:08:23.835594Z"
    }
   },
   "outputs": [],
   "source": [
    "# [-1,1] -> [0,1]\n",
    "def denorm(x):\n",
    "    out = (x + 1) / 2\n",
    "    return out.clamp(0, 1)"
   ]
  },
  {
   "cell_type": "markdown",
   "metadata": {},
   "source": [
    "## 7. 트레이닝"
   ]
  },
  {
   "cell_type": "code",
   "execution_count": 67,
   "metadata": {},
   "outputs": [
    {
     "name": "stdout",
     "output_type": "stream",
     "text": [
      "\n",
      "--------model restored--------\n",
      "\n"
     ]
    }
   ],
   "source": [
    "# model restore if any\n",
    "try:\n",
    "    G.load_state_dict(torch.load('./generator.pkl'))\n",
    "    D.load_state_dict(torch.load('./discriminator.pkl'))\n",
    "    print(\"\\n--------model restored--------\\n\")\n",
    "except:\n",
    "    print(\"\\n--------model not restored--------\\n\")\n",
    "    pass"
   ]
  },
  {
   "cell_type": "code",
   "execution_count": 68,
   "metadata": {
    "ExecuteTime": {
     "end_time": "2017-12-16T02:52:29.660622Z",
     "start_time": "2017-12-16T02:08:25.824139Z"
    }
   },
   "outputs": [
    {
     "name": "stderr",
     "output_type": "stream",
     "text": [
      "/home/isjeon/anaconda3/envs/py36/lib/python3.6/site-packages/torch/nn/functional.py:1218: UserWarning: Using a target size (torch.Size([100])) that is different to the input size (torch.Size([100, 1])) is deprecated. Please ensure they have the same size.\n",
      "  \"Please ensure they have the same size.\".format(target.size(), input.size()))\n"
     ]
    },
    {
     "name": "stdout",
     "output_type": "stream",
     "text": [
      "Epoch [0/20], Step[300/600], d_loss: 0.8547, g_loss: 1.6648, D(x): 0.75, D(G(z)): 0.31\n",
      "Epoch [0/20], Step[600/600], d_loss: 0.7792, g_loss: 1.9476, D(x): 0.74, D(G(z)): 0.27\n",
      "Epoch [1/20], Step[300/600], d_loss: 0.8112, g_loss: 1.7061, D(x): 0.74, D(G(z)): 0.27\n",
      "Epoch [1/20], Step[600/600], d_loss: 0.8858, g_loss: 1.2216, D(x): 0.69, D(G(z)): 0.27\n",
      "Epoch [2/20], Step[300/600], d_loss: 0.7821, g_loss: 2.1366, D(x): 0.71, D(G(z)): 0.23\n",
      "Epoch [2/20], Step[600/600], d_loss: 0.9027, g_loss: 1.9408, D(x): 0.70, D(G(z)): 0.27\n",
      "Epoch [3/20], Step[300/600], d_loss: 0.8111, g_loss: 1.6503, D(x): 0.73, D(G(z)): 0.28\n",
      "Epoch [3/20], Step[600/600], d_loss: 0.7515, g_loss: 1.7360, D(x): 0.73, D(G(z)): 0.20\n",
      "Epoch [4/20], Step[300/600], d_loss: 0.8758, g_loss: 2.0790, D(x): 0.71, D(G(z)): 0.30\n",
      "Epoch [4/20], Step[600/600], d_loss: 0.9019, g_loss: 1.8057, D(x): 0.68, D(G(z)): 0.26\n",
      "Epoch [5/20], Step[300/600], d_loss: 0.8051, g_loss: 2.0764, D(x): 0.74, D(G(z)): 0.28\n",
      "Epoch [5/20], Step[600/600], d_loss: 0.8164, g_loss: 1.5964, D(x): 0.74, D(G(z)): 0.28\n",
      "Epoch [6/20], Step[300/600], d_loss: 0.8747, g_loss: 2.0572, D(x): 0.72, D(G(z)): 0.30\n",
      "Epoch [6/20], Step[600/600], d_loss: 0.7453, g_loss: 1.9160, D(x): 0.71, D(G(z)): 0.23\n",
      "Epoch [7/20], Step[300/600], d_loss: 0.9194, g_loss: 1.5896, D(x): 0.80, D(G(z)): 0.38\n",
      "Epoch [7/20], Step[600/600], d_loss: 0.6651, g_loss: 1.6426, D(x): 0.74, D(G(z)): 0.21\n",
      "Epoch [8/20], Step[300/600], d_loss: 0.8611, g_loss: 1.7225, D(x): 0.69, D(G(z)): 0.27\n",
      "Epoch [8/20], Step[600/600], d_loss: 0.8406, g_loss: 1.4465, D(x): 0.75, D(G(z)): 0.29\n",
      "Epoch [9/20], Step[300/600], d_loss: 0.7424, g_loss: 1.5811, D(x): 0.70, D(G(z)): 0.20\n",
      "Epoch [9/20], Step[600/600], d_loss: 0.8385, g_loss: 1.9061, D(x): 0.75, D(G(z)): 0.30\n",
      "Epoch [10/20], Step[300/600], d_loss: 0.7746, g_loss: 1.9484, D(x): 0.76, D(G(z)): 0.29\n",
      "Epoch [10/20], Step[600/600], d_loss: 0.8302, g_loss: 1.6689, D(x): 0.66, D(G(z)): 0.21\n",
      "Epoch [11/20], Step[300/600], d_loss: 0.8783, g_loss: 2.4200, D(x): 0.72, D(G(z)): 0.30\n",
      "Epoch [11/20], Step[600/600], d_loss: 0.8381, g_loss: 1.7967, D(x): 0.75, D(G(z)): 0.29\n",
      "Epoch [12/20], Step[300/600], d_loss: 0.8168, g_loss: 1.7214, D(x): 0.80, D(G(z)): 0.33\n",
      "Epoch [12/20], Step[600/600], d_loss: 0.6382, g_loss: 2.0429, D(x): 0.76, D(G(z)): 0.23\n",
      "Epoch [13/20], Step[300/600], d_loss: 0.8587, g_loss: 2.2151, D(x): 0.65, D(G(z)): 0.23\n",
      "Epoch [13/20], Step[600/600], d_loss: 0.8266, g_loss: 1.7244, D(x): 0.74, D(G(z)): 0.29\n",
      "Epoch [14/20], Step[300/600], d_loss: 0.9760, g_loss: 1.9364, D(x): 0.62, D(G(z)): 0.21\n",
      "Epoch [14/20], Step[600/600], d_loss: 0.8450, g_loss: 1.6546, D(x): 0.84, D(G(z)): 0.37\n",
      "Epoch [15/20], Step[300/600], d_loss: 0.8644, g_loss: 1.8587, D(x): 0.69, D(G(z)): 0.26\n",
      "Epoch [15/20], Step[600/600], d_loss: 0.8144, g_loss: 2.0011, D(x): 0.69, D(G(z)): 0.23\n",
      "Epoch [16/20], Step[300/600], d_loss: 0.6665, g_loss: 2.2147, D(x): 0.75, D(G(z)): 0.21\n",
      "Epoch [16/20], Step[600/600], d_loss: 0.8015, g_loss: 1.5740, D(x): 0.83, D(G(z)): 0.32\n",
      "Epoch [17/20], Step[300/600], d_loss: 0.7595, g_loss: 1.5726, D(x): 0.73, D(G(z)): 0.26\n",
      "Epoch [17/20], Step[600/600], d_loss: 0.8482, g_loss: 1.7618, D(x): 0.67, D(G(z)): 0.20\n",
      "Epoch [18/20], Step[300/600], d_loss: 0.8162, g_loss: 1.5728, D(x): 0.70, D(G(z)): 0.23\n",
      "Epoch [18/20], Step[600/600], d_loss: 0.8433, g_loss: 1.7920, D(x): 0.77, D(G(z)): 0.33\n",
      "Epoch [19/20], Step[300/600], d_loss: 0.7939, g_loss: 2.1147, D(x): 0.73, D(G(z)): 0.27\n",
      "Epoch [19/20], Step[600/600], d_loss: 1.0583, g_loss: 1.7537, D(x): 0.71, D(G(z)): 0.34\n"
     ]
    }
   ],
   "source": [
    "# Start training\n",
    "total_batch = len(data_loader.dataset)//batch_size\n",
    "for epoch in range(max_epoch):\n",
    "    for i, (images, _) in enumerate(data_loader):\n",
    "        # Build mini-batch dataset\n",
    "        images = Variable(images.view(batch_size, -1)).cuda()\n",
    "\n",
    "        # Create the labels which are later used as input for the BCE loss\n",
    "        real_labels = Variable(torch.ones(batch_size)).cuda()\n",
    "        fake_labels = Variable(torch.zeros(batch_size)).cuda()\n",
    "\n",
    "        #============= Train the discriminator =============#\n",
    "        # Compute BCE_Loss using real images where BCE_Loss(x, y): - y * log(D(x)) - (1-y) * log(1 - D(x))\n",
    "        # Second term of the loss is always zero since real_labels == 1\n",
    "        outputs = D(images)\n",
    "        d_loss_real = criterion(outputs, real_labels)\n",
    "        real_score = outputs\n",
    "\n",
    "        # Compute BCELoss using fake images\n",
    "        # First term of the loss is always zero since fake_labels == 0\n",
    "        z = Variable(torch.randn(batch_size, z_dim)).cuda()\n",
    "        fake_images = G(z)\n",
    "        outputs = D(fake_images)\n",
    "        d_loss_fake = criterion(outputs, fake_labels)\n",
    "        fake_score = outputs\n",
    "\n",
    "        # Backprop + Optimize\n",
    "        d_loss = d_loss_real + d_loss_fake\n",
    "        D.zero_grad()\n",
    "        d_loss.backward()\n",
    "        d_optimizer.step()\n",
    "\n",
    "        #=============== Train the generator ===============#\n",
    "        # Compute loss with fake images\n",
    "        z = Variable(torch.randn(batch_size, z_dim)).cuda()\n",
    "        fake_images = G(z)\n",
    "        outputs = D(fake_images)\n",
    "\n",
    "        # We train G to maximize log(D(G(z)) instead of minimizing log(1-D(G(z)))\n",
    "        # For the reason, see the last paragraph of section 3. https://arxiv.org/pdf/1406.2661.pdf\n",
    "        g_loss = criterion(outputs, real_labels)\n",
    "\n",
    "        # Backprop + Optimize\n",
    "        D.zero_grad()\n",
    "        G.zero_grad()\n",
    "        g_loss.backward()\n",
    "        g_optimizer.step()\n",
    "\n",
    "        if (i+1) % 300 == 0:\n",
    "            print('Epoch [%d/%d], Step[%d/%d], d_loss: %.4f, '\n",
    "                  'g_loss: %.4f, D(x): %.2f, D(G(z)): %.2f'\n",
    "                  %(epoch, max_epoch, i+1, total_batch, d_loss.data[0], g_loss.data[0],\n",
    "                    real_score.data.mean(), fake_score.data.mean()))\n",
    "\n",
    "    # Save real images\n",
    "    if (epoch+1) == 1:\n",
    "        images = images.view(images.size(0), 1, 28, 28)\n",
    "        save_image(denorm(images.data), output_dir+'real_images.png')\n",
    "\n",
    "    # Save sampled images\n",
    "    fake_images = fake_images.view(fake_images.size(0), 1, 28, 28)\n",
    "    save_image(denorm(fake_images.data), output_dir+'fake_images-%d.png' %(epoch+1))\n",
    "\n",
    "# Save the trained parameters\n",
    "torch.save(G.state_dict(), './generator.pkl')\n",
    "torch.save(D.state_dict(), './discriminator.pkl')"
   ]
  },
  {
   "cell_type": "markdown",
   "metadata": {},
   "source": [
    "## 8. 학습된 Generator 테스트"
   ]
  },
  {
   "cell_type": "code",
   "execution_count": 70,
   "metadata": {},
   "outputs": [
    {
     "data": {
      "image/png": "[encoded data removed]",
      "text/plain": [
       "<Figure size 432x288 with 1 Axes>"
      ]
     },
     "metadata": {},
     "output_type": "display_data"
    },
    {
     "data": {
      "image/png": "[encoded data removed]",
      "text/plain": [
       "<Figure size 432x288 with 1 Axes>"
      ]
     },
     "metadata": {},
     "output_type": "display_data"
    }
   ],
   "source": [
    "z = Variable(torch.randn(batch_size, z_dim)).cuda()\n",
    "fake_images = G(z)\n",
    "plt.imshow(denorm(fake_images[2].cpu().view(28,28).data).numpy(), cmap='gray')\n",
    "plt.show()\n",
    "\n",
    "plt.imshow(make_grid(denorm(fake_images.data.view(batch_size,1,28,28))).cpu().permute(1,2,0).numpy())\n",
    "plt.show()"
   ]
  },
  {
   "cell_type": "code",
   "execution_count": null,
   "metadata": {},
   "outputs": [],
   "source": []
  }
 ],
 "metadata": {
  "kernelspec": {
   "display_name": "Python [default]",
   "language": "python",
   "name": "python3"
  },
  "language_info": {
   "codemirror_mode": {
    "name": "ipython",
    "version": 3
   },
   "file_extension": ".py",
   "mimetype": "text/x-python",
   "name": "python",
   "nbconvert_exporter": "python",
   "pygments_lexer": "ipython3",
   "version": "3.6.3"
  }
 },
 "nbformat": 4,
 "nbformat_minor": 2
}
