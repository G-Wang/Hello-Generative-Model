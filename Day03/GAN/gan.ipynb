{
 "cells": [
  {
   "cell_type": "markdown",
   "metadata": {},
   "source": [
    "## 1. 모듈/라이브러리 임포트"
   ]
  },
  {
   "cell_type": "code",
   "execution_count": 1,
   "metadata": {
    "collapsed": true
   },
   "outputs": [],
   "source": [
    "import torch\n",
    "import torchvision\n",
    "import torch.nn as nn\n",
    "import torch.nn.functional as F\n",
    "from torchvision import datasets\n",
    "from torchvision import transforms\n",
    "from torchvision.utils import save_image\n",
    "from torch.autograd import Variable"
   ]
  },
  {
   "cell_type": "markdown",
   "metadata": {},
   "source": [
    "## 2. 몇 가지 함수 정의"
   ]
  },
  {
   "cell_type": "code",
   "execution_count": 2,
   "metadata": {
    "collapsed": true
   },
   "outputs": [],
   "source": [
    "def to_var(x):\n",
    "    if torch.cuda.is_available():\n",
    "        x = x.cuda()\n",
    "    return Variable(x)\n",
    "\n",
    "# [-1,1] -> [0,1]\n",
    "def denorm(x):\n",
    "    out = (x + 1) / 2\n",
    "    return out.clamp(0, 1)"
   ]
  },
  {
   "cell_type": "markdown",
   "metadata": {},
   "source": [
    "## 3. 데이터 준비"
   ]
  },
  {
   "cell_type": "code",
   "execution_count": 4,
   "metadata": {},
   "outputs": [
    {
     "name": "stdout",
     "output_type": "stream",
     "text": [
      "Downloading http://yann.lecun.com/exdb/mnist/train-images-idx3-ubyte.gz\n",
      "Downloading http://yann.lecun.com/exdb/mnist/train-labels-idx1-ubyte.gz\n",
      "Downloading http://yann.lecun.com/exdb/mnist/t10k-images-idx3-ubyte.gz\n",
      "Downloading http://yann.lecun.com/exdb/mnist/t10k-labels-idx1-ubyte.gz\n",
      "Processing...\n",
      "Done!\n"
     ]
    }
   ],
   "source": [
    "# Image processing\n",
    "transform = transforms.Compose([\n",
    "                transforms.ToTensor(),\n",
    "                transforms.Normalize(mean=(0.5, 0.5, 0.5),\n",
    "                                     std=(0.5, 0.5, 0.5))])\n",
    "# MNIST dataset\n",
    "mnist = datasets.MNIST(root='./data/',\n",
    "                       train=True,\n",
    "                       transform=transform,\n",
    "                       download=True)\n",
    "# Data loader\n",
    "data_loader = torch.utils.data.DataLoader(dataset=mnist,\n",
    "                                          batch_size=100,\n",
    "                                          shuffle=True)"
   ]
  },
  {
   "cell_type": "markdown",
   "metadata": {},
   "source": [
    "## 4. 모델 정의"
   ]
  },
  {
   "cell_type": "code",
   "execution_count": 5,
   "metadata": {
    "collapsed": true
   },
   "outputs": [],
   "source": [
    "# Discriminator\n",
    "D = nn.Sequential(\n",
    "    nn.Linear(784, 256),\n",
    "    nn.LeakyReLU(0.2),\n",
    "    nn.Linear(256, 256),\n",
    "    nn.LeakyReLU(0.2),\n",
    "    nn.Linear(256, 1),\n",
    "    nn.Sigmoid())\n",
    "\n",
    "# Generator\n",
    "G = nn.Sequential(\n",
    "    nn.Linear(64, 256),\n",
    "    nn.LeakyReLU(0.2),\n",
    "    nn.Linear(256, 256),\n",
    "    nn.LeakyReLU(0.2),\n",
    "    nn.Linear(256, 784),\n",
    "    nn.Tanh())\n",
    "\n",
    "if torch.cuda.is_available():\n",
    "    D.cuda()\n",
    "    G.cuda()"
   ]
  },
  {
   "cell_type": "markdown",
   "metadata": {},
   "source": [
    "## 5. Loss/Optimizer"
   ]
  },
  {
   "cell_type": "code",
   "execution_count": 6,
   "metadata": {
    "collapsed": true
   },
   "outputs": [],
   "source": [
    "# Binary cross entropy loss and optimizer\n",
    "criterion = nn.BCELoss()\n",
    "d_optimizer = torch.optim.Adam(D.parameters(), lr=0.0003)\n",
    "g_optimizer = torch.optim.Adam(G.parameters(), lr=0.0003)"
   ]
  },
  {
   "cell_type": "markdown",
   "metadata": {},
   "source": [
    "## 6. 트레이닝"
   ]
  },
  {
   "cell_type": "code",
   "execution_count": null,
   "metadata": {},
   "outputs": [
    {
     "name": "stderr",
     "output_type": "stream",
     "text": [
      "/home/wonkonge/anaconda3/envs/kongda/lib/python3.6/site-packages/torch/nn/functional.py:767: UserWarning: Using a target size (torch.Size([100])) that is different to the input size (torch.Size([100, 1])) is deprecated. Please ensure they have the same size.\n",
      "  \"Please ensure they have the same size.\".format(target.size(), input.size()))\n"
     ]
    },
    {
     "name": "stdout",
     "output_type": "stream",
     "text": [
      "Epoch [0/200], Step[300/600], d_loss: 0.1569, g_loss: 4.1276, D(x): 0.98, D(G(z)): 0.11\n",
      "Epoch [0/200], Step[600/600], d_loss: 0.2465, g_loss: 3.3331, D(x): 0.91, D(G(z)): 0.12\n",
      "Epoch [1/200], Step[300/600], d_loss: 1.9106, g_loss: 1.3667, D(x): 0.68, D(G(z)): 0.65\n",
      "Epoch [1/200], Step[600/600], d_loss: 0.8215, g_loss: 2.9425, D(x): 0.76, D(G(z)): 0.27\n",
      "Epoch [2/200], Step[300/600], d_loss: 0.5548, g_loss: 3.9733, D(x): 0.83, D(G(z)): 0.18\n",
      "Epoch [2/200], Step[600/600], d_loss: 0.5110, g_loss: 2.3965, D(x): 0.82, D(G(z)): 0.19\n",
      "Epoch [3/200], Step[300/600], d_loss: 0.4662, g_loss: 2.4754, D(x): 0.85, D(G(z)): 0.20\n",
      "Epoch [3/200], Step[600/600], d_loss: 1.0330, g_loss: 1.6090, D(x): 0.60, D(G(z)): 0.25\n",
      "Epoch [4/200], Step[300/600], d_loss: 0.7419, g_loss: 2.4917, D(x): 0.78, D(G(z)): 0.21\n",
      "Epoch [4/200], Step[600/600], d_loss: 0.3843, g_loss: 2.0577, D(x): 0.86, D(G(z)): 0.17\n",
      "Epoch [5/200], Step[300/600], d_loss: 1.1596, g_loss: 1.4448, D(x): 0.64, D(G(z)): 0.36\n",
      "Epoch [5/200], Step[600/600], d_loss: 0.4747, g_loss: 3.2986, D(x): 0.86, D(G(z)): 0.18\n",
      "Epoch [6/200], Step[300/600], d_loss: 0.9312, g_loss: 2.0643, D(x): 0.77, D(G(z)): 0.34\n",
      "Epoch [6/200], Step[600/600], d_loss: 1.0986, g_loss: 1.4621, D(x): 0.71, D(G(z)): 0.45\n",
      "Epoch [7/200], Step[300/600], d_loss: 0.3505, g_loss: 2.8915, D(x): 0.82, D(G(z)): 0.09\n",
      "Epoch [7/200], Step[600/600], d_loss: 0.8850, g_loss: 2.6593, D(x): 0.72, D(G(z)): 0.21\n",
      "Epoch [8/200], Step[300/600], d_loss: 0.3934, g_loss: 3.0578, D(x): 0.91, D(G(z)): 0.18\n",
      "Epoch [8/200], Step[600/600], d_loss: 0.5646, g_loss: 2.2517, D(x): 0.79, D(G(z)): 0.19\n",
      "Epoch [9/200], Step[300/600], d_loss: 0.7261, g_loss: 2.1605, D(x): 0.83, D(G(z)): 0.29\n",
      "Epoch [9/200], Step[600/600], d_loss: 0.7143, g_loss: 2.1289, D(x): 0.84, D(G(z)): 0.29\n",
      "Epoch [10/200], Step[300/600], d_loss: 1.7000, g_loss: 1.5434, D(x): 0.63, D(G(z)): 0.49\n",
      "Epoch [10/200], Step[600/600], d_loss: 0.5091, g_loss: 2.1988, D(x): 0.85, D(G(z)): 0.23\n",
      "Epoch [11/200], Step[300/600], d_loss: 0.5092, g_loss: 2.4655, D(x): 0.78, D(G(z)): 0.15\n",
      "Epoch [11/200], Step[600/600], d_loss: 0.7613, g_loss: 2.7916, D(x): 0.86, D(G(z)): 0.33\n",
      "Epoch [12/200], Step[300/600], d_loss: 0.7910, g_loss: 2.3641, D(x): 0.76, D(G(z)): 0.26\n",
      "Epoch [12/200], Step[600/600], d_loss: 0.8743, g_loss: 2.1241, D(x): 0.73, D(G(z)): 0.29\n",
      "Epoch [13/200], Step[300/600], d_loss: 0.9986, g_loss: 1.8445, D(x): 0.67, D(G(z)): 0.25\n",
      "Epoch [13/200], Step[600/600], d_loss: 1.1520, g_loss: 2.3122, D(x): 0.67, D(G(z)): 0.31\n",
      "Epoch [14/200], Step[300/600], d_loss: 0.9636, g_loss: 2.8095, D(x): 0.65, D(G(z)): 0.15\n",
      "Epoch [14/200], Step[600/600], d_loss: 1.4987, g_loss: 5.6183, D(x): 0.59, D(G(z)): 0.16\n",
      "Epoch [15/200], Step[300/600], d_loss: 0.6168, g_loss: 2.4014, D(x): 0.82, D(G(z)): 0.21\n",
      "Epoch [15/200], Step[600/600], d_loss: 0.8810, g_loss: 1.7889, D(x): 0.71, D(G(z)): 0.26\n",
      "Epoch [16/200], Step[300/600], d_loss: 0.9076, g_loss: 2.5202, D(x): 0.74, D(G(z)): 0.28\n",
      "Epoch [16/200], Step[600/600], d_loss: 0.7234, g_loss: 1.9647, D(x): 0.74, D(G(z)): 0.24\n",
      "Epoch [17/200], Step[300/600], d_loss: 0.5604, g_loss: 2.1245, D(x): 0.88, D(G(z)): 0.29\n",
      "Epoch [17/200], Step[600/600], d_loss: 0.9925, g_loss: 1.9228, D(x): 0.74, D(G(z)): 0.33\n",
      "Epoch [18/200], Step[300/600], d_loss: 0.9091, g_loss: 1.8487, D(x): 0.67, D(G(z)): 0.26\n",
      "Epoch [18/200], Step[600/600], d_loss: 1.0131, g_loss: 1.5359, D(x): 0.60, D(G(z)): 0.20\n",
      "Epoch [19/200], Step[300/600], d_loss: 1.1100, g_loss: 1.6638, D(x): 0.71, D(G(z)): 0.38\n",
      "Epoch [19/200], Step[600/600], d_loss: 0.6135, g_loss: 2.6493, D(x): 0.82, D(G(z)): 0.21\n",
      "Epoch [20/200], Step[300/600], d_loss: 0.4652, g_loss: 2.1321, D(x): 0.83, D(G(z)): 0.18\n",
      "Epoch [20/200], Step[600/600], d_loss: 0.5221, g_loss: 2.3053, D(x): 0.82, D(G(z)): 0.17\n",
      "Epoch [21/200], Step[300/600], d_loss: 0.8058, g_loss: 2.4738, D(x): 0.71, D(G(z)): 0.15\n",
      "Epoch [21/200], Step[600/600], d_loss: 1.1365, g_loss: 1.9396, D(x): 0.73, D(G(z)): 0.37\n",
      "Epoch [22/200], Step[300/600], d_loss: 0.7349, g_loss: 1.8242, D(x): 0.71, D(G(z)): 0.20\n",
      "Epoch [22/200], Step[600/600], d_loss: 0.6867, g_loss: 2.4770, D(x): 0.79, D(G(z)): 0.23\n",
      "Epoch [23/200], Step[300/600], d_loss: 0.8941, g_loss: 2.1610, D(x): 0.78, D(G(z)): 0.32\n",
      "Epoch [23/200], Step[600/600], d_loss: 0.7667, g_loss: 1.7177, D(x): 0.75, D(G(z)): 0.23\n",
      "Epoch [24/200], Step[300/600], d_loss: 0.7721, g_loss: 1.5015, D(x): 0.72, D(G(z)): 0.22\n",
      "Epoch [24/200], Step[600/600], d_loss: 0.7808, g_loss: 1.9268, D(x): 0.74, D(G(z)): 0.25\n",
      "Epoch [25/200], Step[300/600], d_loss: 0.6014, g_loss: 2.1223, D(x): 0.81, D(G(z)): 0.23\n",
      "Epoch [25/200], Step[600/600], d_loss: 0.5128, g_loss: 2.3471, D(x): 0.84, D(G(z)): 0.21\n",
      "Epoch [26/200], Step[300/600], d_loss: 0.8779, g_loss: 2.5746, D(x): 0.70, D(G(z)): 0.28\n",
      "Epoch [26/200], Step[600/600], d_loss: 0.8633, g_loss: 1.6222, D(x): 0.79, D(G(z)): 0.31\n",
      "Epoch [27/200], Step[300/600], d_loss: 1.2254, g_loss: 1.9694, D(x): 0.56, D(G(z)): 0.21\n",
      "Epoch [27/200], Step[600/600], d_loss: 0.7129, g_loss: 1.9604, D(x): 0.75, D(G(z)): 0.25\n",
      "Epoch [28/200], Step[300/600], d_loss: 0.7993, g_loss: 1.5469, D(x): 0.80, D(G(z)): 0.33\n",
      "Epoch [28/200], Step[600/600], d_loss: 0.7606, g_loss: 2.1516, D(x): 0.82, D(G(z)): 0.31\n",
      "Epoch [29/200], Step[300/600], d_loss: 0.7765, g_loss: 2.0915, D(x): 0.74, D(G(z)): 0.28\n",
      "Epoch [29/200], Step[600/600], d_loss: 0.7626, g_loss: 2.0745, D(x): 0.73, D(G(z)): 0.22\n",
      "Epoch [30/200], Step[300/600], d_loss: 0.8758, g_loss: 1.6920, D(x): 0.70, D(G(z)): 0.27\n",
      "Epoch [30/200], Step[600/600], d_loss: 0.7668, g_loss: 2.2008, D(x): 0.72, D(G(z)): 0.22\n",
      "Epoch [31/200], Step[300/600], d_loss: 0.7736, g_loss: 1.8701, D(x): 0.74, D(G(z)): 0.27\n",
      "Epoch [31/200], Step[600/600], d_loss: 0.9499, g_loss: 2.2664, D(x): 0.68, D(G(z)): 0.22\n",
      "Epoch [32/200], Step[300/600], d_loss: 1.0595, g_loss: 2.1067, D(x): 0.59, D(G(z)): 0.19\n",
      "Epoch [32/200], Step[600/600], d_loss: 0.8113, g_loss: 1.5595, D(x): 0.74, D(G(z)): 0.28\n",
      "Epoch [33/200], Step[300/600], d_loss: 0.8035, g_loss: 1.6110, D(x): 0.74, D(G(z)): 0.28\n",
      "Epoch [33/200], Step[600/600], d_loss: 0.9175, g_loss: 1.7312, D(x): 0.74, D(G(z)): 0.31\n",
      "Epoch [34/200], Step[300/600], d_loss: 0.7982, g_loss: 2.1124, D(x): 0.72, D(G(z)): 0.26\n",
      "Epoch [34/200], Step[600/600], d_loss: 1.1476, g_loss: 1.6952, D(x): 0.72, D(G(z)): 0.43\n",
      "Epoch [35/200], Step[300/600], d_loss: 1.0430, g_loss: 1.7202, D(x): 0.70, D(G(z)): 0.32\n",
      "Epoch [35/200], Step[600/600], d_loss: 0.8281, g_loss: 1.8158, D(x): 0.74, D(G(z)): 0.30\n",
      "Epoch [36/200], Step[300/600], d_loss: 0.7728, g_loss: 2.3239, D(x): 0.75, D(G(z)): 0.28\n",
      "Epoch [36/200], Step[600/600], d_loss: 0.9317, g_loss: 1.8623, D(x): 0.72, D(G(z)): 0.33\n",
      "Epoch [37/200], Step[300/600], d_loss: 0.9174, g_loss: 1.8485, D(x): 0.72, D(G(z)): 0.34\n",
      "Epoch [37/200], Step[600/600], d_loss: 0.8898, g_loss: 1.8372, D(x): 0.75, D(G(z)): 0.31\n",
      "Epoch [38/200], Step[300/600], d_loss: 0.7909, g_loss: 1.9731, D(x): 0.75, D(G(z)): 0.30\n",
      "Epoch [38/200], Step[600/600], d_loss: 0.8450, g_loss: 1.9338, D(x): 0.63, D(G(z)): 0.19\n",
      "Epoch [39/200], Step[300/600], d_loss: 0.5955, g_loss: 2.4451, D(x): 0.80, D(G(z)): 0.22\n",
      "Epoch [39/200], Step[600/600], d_loss: 1.0064, g_loss: 2.0882, D(x): 0.66, D(G(z)): 0.27\n",
      "Epoch [40/200], Step[300/600], d_loss: 0.9666, g_loss: 1.5903, D(x): 0.69, D(G(z)): 0.31\n",
      "Epoch [40/200], Step[600/600], d_loss: 0.9851, g_loss: 1.4325, D(x): 0.69, D(G(z)): 0.33\n",
      "Epoch [41/200], Step[300/600], d_loss: 1.0328, g_loss: 1.5579, D(x): 0.77, D(G(z)): 0.40\n",
      "Epoch [41/200], Step[600/600], d_loss: 1.0157, g_loss: 1.4277, D(x): 0.66, D(G(z)): 0.29\n",
      "Epoch [42/200], Step[300/600], d_loss: 0.7994, g_loss: 1.8915, D(x): 0.81, D(G(z)): 0.33\n",
      "Epoch [42/200], Step[600/600], d_loss: 0.9699, g_loss: 1.6236, D(x): 0.70, D(G(z)): 0.31\n",
      "Epoch [43/200], Step[300/600], d_loss: 0.7074, g_loss: 1.6135, D(x): 0.75, D(G(z)): 0.24\n"
     ]
    }
   ],
   "source": [
    "# Start training\n",
    "for epoch in range(200):\n",
    "    for i, (images, _) in enumerate(data_loader):\n",
    "        # Build mini-batch dataset\n",
    "        batch_size = images.size(0)\n",
    "        images = to_var(images.view(batch_size, -1))\n",
    "\n",
    "        # Create the labels which are later used as input for the BCE loss\n",
    "        real_labels = to_var(torch.ones(batch_size))\n",
    "        fake_labels = to_var(torch.zeros(batch_size))\n",
    "\n",
    "        #============= Train the discriminator =============#\n",
    "        # Compute BCE_Loss using real images where BCE_Loss(x, y): - y * log(D(x)) - (1-y) * log(1 - D(x))\n",
    "        # Second term of the loss is always zero since real_labels == 1\n",
    "        outputs = D(images)\n",
    "        d_loss_real = criterion(outputs, real_labels)\n",
    "        real_score = outputs\n",
    "\n",
    "        # Compute BCELoss using fake images\n",
    "        # First term of the loss is always zero since fake_labels == 0\n",
    "        z = to_var(torch.randn(batch_size, 64))\n",
    "        fake_images = G(z)\n",
    "        outputs = D(fake_images)\n",
    "        d_loss_fake = criterion(outputs, fake_labels)\n",
    "        fake_score = outputs\n",
    "\n",
    "        # Backprop + Optimize\n",
    "        d_loss = d_loss_real + d_loss_fake\n",
    "        D.zero_grad()\n",
    "        d_loss.backward()\n",
    "        d_optimizer.step()\n",
    "\n",
    "        #=============== Train the generator ===============#\n",
    "        # Compute loss with fake images\n",
    "        z = to_var(torch.randn(batch_size, 64))\n",
    "        fake_images = G(z)\n",
    "        outputs = D(fake_images)\n",
    "\n",
    "        # We train G to maximize log(D(G(z)) instead of minimizing log(1-D(G(z)))\n",
    "        # For the reason, see the last paragraph of section 3. https://arxiv.org/pdf/1406.2661.pdf\n",
    "        g_loss = criterion(outputs, real_labels)\n",
    "\n",
    "        # Backprop + Optimize\n",
    "        D.zero_grad()\n",
    "        G.zero_grad()\n",
    "        g_loss.backward()\n",
    "        g_optimizer.step()\n",
    "\n",
    "        if (i+1) % 300 == 0:\n",
    "            print('Epoch [%d/%d], Step[%d/%d], d_loss: %.4f, '\n",
    "                  'g_loss: %.4f, D(x): %.2f, D(G(z)): %.2f'\n",
    "                  %(epoch, 200, i+1, 600, d_loss.data[0], g_loss.data[0],\n",
    "                    real_score.data.mean(), fake_score.data.mean()))\n",
    "\n",
    "    # Save real images\n",
    "    if (epoch+1) == 1:\n",
    "        images = images.view(images.size(0), 1, 28, 28)\n",
    "        save_image(denorm(images.data), './data/real_images.png')\n",
    "\n",
    "    # Save sampled images\n",
    "    fake_images = fake_images.view(fake_images.size(0), 1, 28, 28)\n",
    "    save_image(denorm(fake_images.data), './data/fake_images-%d.png' %(epoch+1))\n",
    "\n",
    "# Save the trained parameters\n",
    "torch.save(G.state_dict(), './generator.pkl')\n",
    "torch.save(D.state_dict(), './discriminator.pkl')"
   ]
  }
 ],
 "metadata": {
  "kernelspec": {
   "display_name": "Python 3",
   "language": "python",
   "name": "python3"
  },
  "language_info": {
   "codemirror_mode": {
    "name": "ipython",
    "version": 3
   },
   "file_extension": ".py",
   "mimetype": "text/x-python",
   "name": "python",
   "nbconvert_exporter": "python",
   "pygments_lexer": "ipython3",
   "version": "3.6.3"
  }
 },
 "nbformat": 4,
 "nbformat_minor": 2
}
