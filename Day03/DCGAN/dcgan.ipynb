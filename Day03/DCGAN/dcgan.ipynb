{
 "cells": [
  {
   "cell_type": "markdown",
   "metadata": {},
   "source": [
    "## 0. 데이터셋 다운로드"
   ]
  },
  {
   "cell_type": "code",
   "execution_count": null,
   "metadata": {},
   "outputs": [],
   "source": [
    "# !chmod +x download.sh\n",
    "# !./download.sh\n",
    "# !unzip -q CelebA_128crop_FD.zip?dl=0 -d ./data/"
   ]
  },
  {
   "cell_type": "markdown",
   "metadata": {},
   "source": [
    "## 1. 모듈/라이브러리 임포트"
   ]
  },
  {
   "cell_type": "code",
   "execution_count": null,
   "metadata": {
    "collapsed": true
   },
   "outputs": [],
   "source": [
    "import torch, os\n",
    "import torchvision\n",
    "import torch.nn as nn\n",
    "import torch.nn.functional as F\n",
    "from torchvision import datasets\n",
    "from torchvision import transforms\n",
    "from torchvision.datasets import ImageFolder\n",
    "from torchvision.utils import save_image\n",
    "from torch.autograd import Variable\n",
    "from torch.utils.data import DataLoader"
   ]
  },
  {
   "cell_type": "markdown",
   "metadata": {},
   "source": [
    "## 2. 하이퍼 파라메터"
   ]
  },
  {
   "cell_type": "code",
   "execution_count": null,
   "metadata": {
    "collapsed": true
   },
   "outputs": [],
   "source": [
    "lr = 0.0002\n",
    "max_epoch = 20\n",
    "batch_size = 32\n",
    "z_dim = 100\n",
    "image_size = 64\n",
    "g_conv_dim = 64\n",
    "d_conv_dim = 64\n",
    "log_step = 100\n",
    "sample_step = 500\n",
    "sample_num = 32\n",
    "image_path = './data/CelebA/'\n",
    "sample_path = './output/' \n",
    "if not os.path.exists(sample_path) : os.makedirs(sample_path)"
   ]
  },
  {
   "cell_type": "markdown",
   "metadata": {},
   "source": [
    "## 3. 데이터 준비"
   ]
  },
  {
   "cell_type": "code",
   "execution_count": null,
   "metadata": {},
   "outputs": [],
   "source": [
    "transform = transforms.Compose([\n",
    "                transforms.Resize(image_size),\n",
    "                transforms.ToTensor(),\n",
    "                transforms.Normalize((0.5, 0.5, 0.5), (0.5, 0.5, 0.5))])\n",
    "\n",
    "dataset = ImageFolder(image_path, transform)\n",
    "data_loader = DataLoader(dataset=dataset,\n",
    "                          batch_size=batch_size,\n",
    "                          shuffle=True,\n",
    "                          num_workers=8,\n",
    "                          drop_last=True)"
   ]
  },
  {
   "cell_type": "markdown",
   "metadata": {},
   "source": [
    "## 4. 모델 정의\n",
    "<br><br>\n",
    "![iImage](dcgan.png)"
   ]
  },
  {
   "cell_type": "code",
   "execution_count": null,
   "metadata": {},
   "outputs": [],
   "source": [
    "def deconv(c_in, c_out, k_size, stride=2, pad=1, bn=True):\n",
    "    \"\"\"Custom deconvolutional layer for simplicity.\"\"\"\n",
    "    layers = []\n",
    "    layers.append(nn.ConvTranspose2d(c_in, c_out, k_size, stride, pad))\n",
    "    if bn:\n",
    "        layers.append(nn.BatchNorm2d(c_out))\n",
    "    return nn.Sequential(*layers)\n",
    "\n",
    "\n",
    "class Generator(nn.Module):\n",
    "    \"\"\"Generator containing 7 deconvolutional layers.\"\"\"\n",
    "    def __init__(self, z_dim=256, image_size=128, conv_dim=64):\n",
    "        super(Generator, self).__init__()\n",
    "        self.fc = deconv(z_dim, conv_dim*8, int(image_size/16), 1, 0, bn=False)\n",
    "        self.deconv1 = deconv(conv_dim*8, conv_dim*4, 4)\n",
    "        self.deconv2 = deconv(conv_dim*4, conv_dim*2, 4)\n",
    "        self.deconv3 = deconv(conv_dim*2, conv_dim, 4)\n",
    "        self.deconv4 = deconv(conv_dim, 3, 4, bn=False)\n",
    "        \n",
    "    def forward(self, z):\n",
    "        z = z.view(z.size(0), z.size(1), 1, 1)      # If image_size is 64, output shape is as below.\n",
    "        out = self.fc(z)                            # (?, 512, 4, 4)\n",
    "        out = F.leaky_relu(self.deconv1(out), 0.05)  # (?, 256, 8, 8)\n",
    "        out = F.leaky_relu(self.deconv2(out), 0.05)  # (?, 128, 16, 16)\n",
    "        out = F.leaky_relu(self.deconv3(out), 0.05)  # (?, 64, 32, 32)\n",
    "        out = F.tanh(self.deconv4(out))             # (?, 3, 64, 64)\n",
    "        return out\n",
    "    \n",
    "    \n",
    "def conv(c_in, c_out, k_size, stride=2, pad=1, bn=True):\n",
    "    \"\"\"Custom convolutional layer for simplicity.\"\"\"\n",
    "    layers = []\n",
    "    layers.append(nn.Conv2d(c_in, c_out, k_size, stride, pad))\n",
    "    if bn:\n",
    "        layers.append(nn.BatchNorm2d(c_out))\n",
    "    return nn.Sequential(*layers)\n",
    "\n",
    "\n",
    "class Discriminator(nn.Module):\n",
    "    \"\"\"Discriminator containing 4 convolutional layers.\"\"\"\n",
    "    def __init__(self, image_size=128, conv_dim=64):\n",
    "        super(Discriminator, self).__init__()\n",
    "        self.conv1 = conv(3, conv_dim, 4, bn=False)\n",
    "        self.conv2 = conv(conv_dim, conv_dim*2, 4)\n",
    "        self.conv3 = conv(conv_dim*2, conv_dim*4, 4)\n",
    "        self.conv4 = conv(conv_dim*4, conv_dim*8, 4)\n",
    "        self.fc = conv(conv_dim*8, 1, int(image_size/16), 1, 0, False)\n",
    "        \n",
    "    def forward(self, x):                         # If image_size is 64, output shape is as below.\n",
    "        out = F.leaky_relu(self.conv1(x), 0.05)    # (?, 64, 32, 32)\n",
    "        out = F.leaky_relu(self.conv2(out), 0.05)  # (?, 128, 16, 16)\n",
    "        out = F.leaky_relu(self.conv3(out), 0.05)  # (?, 256, 8, 8)\n",
    "        out = F.leaky_relu(self.conv4(out), 0.05)  # (?, 512, 4, 4)\n",
    "        out = F.sigmoid(self.fc(out)).squeeze()\n",
    "#         out = self.fc(out).squeeze() # Least Square\n",
    "        return out\n",
    "    \n",
    "D = Discriminator(image_size)\n",
    "G = Generator(z_dim,image_size,g_conv_dim)\n",
    "\n",
    "D.cuda()\n",
    "G.cuda()"
   ]
  },
  {
   "cell_type": "markdown",
   "metadata": {},
   "source": [
    "## 5. Loss/Optimizer"
   ]
  },
  {
   "cell_type": "code",
   "execution_count": null,
   "metadata": {
    "collapsed": true
   },
   "outputs": [],
   "source": [
    "# Binary cross entropy loss and optimizer\n",
    "criterion = nn.BCELoss().cuda()\n",
    "d_optimizer = torch.optim.Adam(D.parameters(), lr=lr, betas=(0.5,0.999))\n",
    "g_optimizer = torch.optim.Adam(G.parameters(), lr=lr, betas=(0.5,0.999))"
   ]
  },
  {
   "cell_type": "markdown",
   "metadata": {},
   "source": [
    "## 6. 기타 함수"
   ]
  },
  {
   "cell_type": "code",
   "execution_count": null,
   "metadata": {
    "collapsed": true
   },
   "outputs": [],
   "source": [
    "# denormalization : [-1,1] -> [0,1]\n",
    "# normalization : [0,1] -> [-1,1]\n",
    "def denorm(x):\n",
    "    out = (x + 1) / 2\n",
    "    return out.clamp(0, 1)"
   ]
  },
  {
   "cell_type": "markdown",
   "metadata": {},
   "source": [
    "## 7. 트레이닝"
   ]
  },
  {
   "cell_type": "code",
   "execution_count": null,
   "metadata": {},
   "outputs": [],
   "source": [
    "# Start training\n",
    "total_batch = len(data_loader.dataset)//batch_size\n",
    "fixed_z = Variable(torch.randn(sample_num, z_dim)).cuda()\n",
    "for epoch in range(max_epoch):\n",
    "    for i, (images, _) in enumerate(data_loader):\n",
    "        # Build mini-batch dataset\n",
    "        images = Variable(images).cuda()\n",
    "        # Create the labels which are later used as input for the BCE loss\n",
    "        real_labels = Variable(torch.ones(batch_size)).cuda()\n",
    "        fake_labels = Variable(torch.zeros(batch_size)).cuda()\n",
    "\n",
    "        #============= Train the discriminator =============#\n",
    "        # Compute BCE_Loss using real images where BCE_Loss(x, y): - y * log(D(x)) - (1-y) * log(1 - D(x))\n",
    "        # Second term of the loss is always zero since real_labels == 1\n",
    "        outputs = D(images)\n",
    "        d_loss_real = criterion(outputs, real_labels) # BCE\n",
    "#         d_loss_real = torch.mean((outputs - 1) ** 2) # Least Square\n",
    "        \n",
    "        real_score = outputs\n",
    "\n",
    "        # Compute BCELoss using fake images\n",
    "        # First term of the loss is always zero since fake_labels == 0\n",
    "        z = Variable(torch.randn(batch_size, z_dim)).cuda()\n",
    "        fake_images = G(z)\n",
    "        outputs = D(fake_images)\n",
    "        d_loss_fake = criterion(outputs, fake_labels) # BCE\n",
    "#         d_loss_fake = torch.mean(outputs ** 2) # Least Square\n",
    "        fake_score = outputs\n",
    "\n",
    "        # Backprop + Optimize\n",
    "        d_loss = d_loss_real + d_loss_fake\n",
    "        D.zero_grad()\n",
    "        d_loss.backward()\n",
    "        d_optimizer.step()\n",
    "\n",
    "        #=============== Train the generator ===============#\n",
    "        # Compute loss with fake images\n",
    "        z = Variable(torch.randn(batch_size, z_dim)).cuda()\n",
    "        fake_images = G(z)\n",
    "        outputs = D(fake_images)\n",
    "\n",
    "        # We train G to maximize log(D(G(z)) instead of minimizing log(1-D(G(z)))\n",
    "        # For the reason, see the last paragraph of section 3. https://arxiv.org/pdf/1406.2661.pdf\n",
    "        g_loss = criterion(outputs, real_labels) # BCE\n",
    "#        g_loss = torch.mean((outputs - 1) ** 2) # Least Square\n",
    "\n",
    "        # Backprop + Optimize\n",
    "        D.zero_grad()\n",
    "        G.zero_grad()\n",
    "        g_loss.backward()\n",
    "        g_optimizer.step()\n",
    "\n",
    "        if (i+1) % log_step == 0:\n",
    "            print('Epoch [%d/%d], Step[%d/%d], d_loss: %.4f, '\n",
    "                  'g_loss: %.4f, D(x): %.2f, D(G(z)): %.2f'\n",
    "                  %(epoch, max_epoch, i+1, total_batch, d_loss.data[0], g_loss.data[0],\n",
    "                    real_score.data.mean(), fake_score.data.mean()))\n",
    "            \n",
    "        if (i+1) % sample_step == 0:\n",
    "            fake_images = G(fixed_z)\n",
    "            torchvision.utils.save_image(denorm(fake_images.data), \n",
    "                                         os.path.join(sample_path,'fake_samples-%d-%d.png' %(epoch+1, i+1)),\n",
    "                                         nrow=8)\n",
    "\n",
    "# Save the trained parameters\n",
    "torch.save(G.state_dict(), './generator.pkl')\n",
    "torch.save(D.state_dict(), './discriminator.pkl')"
   ]
  },
  {
   "cell_type": "code",
   "execution_count": null,
   "metadata": {
    "collapsed": true
   },
   "outputs": [],
   "source": []
  }
 ],
 "metadata": {
  "kernelspec": {
   "display_name": "Python 3",
   "language": "python",
   "name": "python3"
  },
  "language_info": {
   "codemirror_mode": {
    "name": "ipython",
    "version": 3
   },
   "file_extension": ".py",
   "mimetype": "text/x-python",
   "name": "python",
   "nbconvert_exporter": "python",
   "pygments_lexer": "ipython3",
   "version": "3.6.3"
  }
 },
 "nbformat": 4,
 "nbformat_minor": 2
}
