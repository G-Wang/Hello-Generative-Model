{
 "cells": [
  {
   "cell_type": "markdown",
   "metadata": {},
   "source": [
    "# Convolution Transposed Exercise\n",
    "\n",
    "torch.nn.ConvTranspose2d(in_channels, out_channels, kernel_size, stride=1, padding=0, output_padding=0, groups=1, bias=True, dilation=1)\n",
    "\n",
    "check out https://github.com/vdumoulin/conv_arithmetic\n",
    "\n",
    "## 1. Import Required Libraries"
   ]
  },
  {
   "cell_type": "code",
   "execution_count": 19,
   "metadata": {
    "collapsed": true
   },
   "outputs": [],
   "source": [
    "import torch\n",
    "import torch.nn as nn\n",
    "import torch.nn.init as init"
   ]
  },
  {
   "cell_type": "markdown",
   "metadata": {},
   "source": [
    "## 2. Input Data"
   ]
  },
  {
   "cell_type": "code",
   "execution_count": 20,
   "metadata": {},
   "outputs": [
    {
     "name": "stdout",
     "output_type": "stream",
     "text": [
      "tensor([[[[ 1.,  1.,  1.],\n",
      "          [ 1.,  1.,  1.],\n",
      "          [ 1.,  1.,  1.]]]])\n"
     ]
    }
   ],
   "source": [
    "img = torch.ones(1,1,3,3)\n",
    "print(img)"
   ]
  },
  {
   "cell_type": "markdown",
   "metadata": {},
   "source": [
    "## 3. Set All Weights to One"
   ]
  },
  {
   "cell_type": "code",
   "execution_count": 21,
   "metadata": {},
   "outputs": [
    {
     "name": "stdout",
     "output_type": "stream",
     "text": [
      "Parameter containing:\n",
      "tensor([[[[-0.2439,  0.2455,  0.0076],\n",
      "          [ 0.2158,  0.0300, -0.0415],\n",
      "          [ 0.2713, -0.0479, -0.0554]]]])\n"
     ]
    },
    {
     "data": {
      "text/plain": [
       "Parameter containing:\n",
       "tensor([[[[ 1.,  1.,  1.],\n",
       "          [ 1.,  1.,  1.],\n",
       "          [ 1.,  1.,  1.]]]])"
      ]
     },
     "execution_count": 21,
     "metadata": {},
     "output_type": "execute_result"
    }
   ],
   "source": [
    "transpose = nn.ConvTranspose2d(in_channels=1, out_channels=1, kernel_size=3, stride=1, padding=0, output_padding=0, bias=False)\n",
    "print(transpose.weight)\n",
    "\n",
    "init.constant_(transpose.weight,1)"
   ]
  },
  {
   "cell_type": "markdown",
   "metadata": {},
   "source": [
    "## Kernel Size=3, stride=1, padding=0, output_padding=0"
   ]
  },
  {
   "cell_type": "code",
   "execution_count": 22,
   "metadata": {},
   "outputs": [
    {
     "data": {
      "text/plain": [
       "tensor([[[[ 1.,  2.,  3.,  2.,  1.],\n",
       "          [ 2.,  4.,  6.,  4.,  2.],\n",
       "          [ 3.,  6.,  9.,  6.,  3.],\n",
       "          [ 2.,  4.,  6.,  4.,  2.],\n",
       "          [ 1.,  2.,  3.,  2.,  1.]]]])"
      ]
     },
     "execution_count": 22,
     "metadata": {},
     "output_type": "execute_result"
    }
   ],
   "source": [
    "transpose(img)"
   ]
  },
  {
   "cell_type": "markdown",
   "metadata": {},
   "source": [
    "## Kernel Size=3, stride=2, padding=0, output_padding=0"
   ]
  },
  {
   "cell_type": "code",
   "execution_count": 23,
   "metadata": {},
   "outputs": [
    {
     "data": {
      "text/plain": [
       "tensor([[[[ 1.,  1.,  2.,  1.,  2.,  1.,  1.],\n",
       "          [ 1.,  1.,  2.,  1.,  2.,  1.,  1.],\n",
       "          [ 2.,  2.,  4.,  2.,  4.,  2.,  2.],\n",
       "          [ 1.,  1.,  2.,  1.,  2.,  1.,  1.],\n",
       "          [ 2.,  2.,  4.,  2.,  4.,  2.,  2.],\n",
       "          [ 1.,  1.,  2.,  1.,  2.,  1.,  1.],\n",
       "          [ 1.,  1.,  2.,  1.,  2.,  1.,  1.]]]])"
      ]
     },
     "execution_count": 23,
     "metadata": {},
     "output_type": "execute_result"
    }
   ],
   "source": [
    "transpose = nn.ConvTranspose2d(in_channels=1, out_channels=1, kernel_size=3, stride=2, padding=0, output_padding=0, bias=False)\n",
    "init.constant_(transpose.weight,1)\n",
    "transpose(img)"
   ]
  },
  {
   "cell_type": "markdown",
   "metadata": {},
   "source": [
    "## Kernel Size=3, stride=2, padding=1, output_padding=0"
   ]
  },
  {
   "cell_type": "code",
   "execution_count": 24,
   "metadata": {},
   "outputs": [
    {
     "data": {
      "text/plain": [
       "tensor([[[[ 1.,  2.,  1.,  2.,  1.],\n",
       "          [ 2.,  4.,  2.,  4.,  2.],\n",
       "          [ 1.,  2.,  1.,  2.,  1.],\n",
       "          [ 2.,  4.,  2.,  4.,  2.],\n",
       "          [ 1.,  2.,  1.,  2.,  1.]]]])"
      ]
     },
     "execution_count": 24,
     "metadata": {},
     "output_type": "execute_result"
    }
   ],
   "source": [
    "transpose = nn.ConvTranspose2d(in_channels=1, out_channels=1, kernel_size=3, stride=2, padding=1, output_padding=0, bias=False)\n",
    "init.constant_(transpose.weight.data,1)\n",
    "transpose(img)"
   ]
  },
  {
   "cell_type": "markdown",
   "metadata": {},
   "source": [
    "## Kernel Size=3, stride=2, padding=0, output_padding=1"
   ]
  },
  {
   "cell_type": "code",
   "execution_count": 25,
   "metadata": {},
   "outputs": [
    {
     "data": {
      "text/plain": [
       "tensor([[[[ 1.,  1.,  2.,  1.,  2.,  1.,  1.,  0.],\n",
       "          [ 1.,  1.,  2.,  1.,  2.,  1.,  1.,  0.],\n",
       "          [ 2.,  2.,  4.,  2.,  4.,  2.,  2.,  0.],\n",
       "          [ 1.,  1.,  2.,  1.,  2.,  1.,  1.,  0.],\n",
       "          [ 2.,  2.,  4.,  2.,  4.,  2.,  2.,  0.],\n",
       "          [ 1.,  1.,  2.,  1.,  2.,  1.,  1.,  0.],\n",
       "          [ 1.,  1.,  2.,  1.,  2.,  1.,  1.,  0.],\n",
       "          [ 0.,  0.,  0.,  0.,  0.,  0.,  0.,  0.]]]])"
      ]
     },
     "execution_count": 25,
     "metadata": {},
     "output_type": "execute_result"
    }
   ],
   "source": [
    "transpose = nn.ConvTranspose2d(in_channels=1, out_channels=1, kernel_size=3, stride=2, padding=0, output_padding=1, bias=False)\n",
    "init.constant_(transpose.weight.data,1)\n",
    "transpose(img)"
   ]
  },
  {
   "cell_type": "markdown",
   "metadata": {},
   "source": [
    "## Kernel Size=3, stride=2, padding=1, output_padding=1"
   ]
  },
  {
   "cell_type": "code",
   "execution_count": 26,
   "metadata": {},
   "outputs": [
    {
     "data": {
      "text/plain": [
       "tensor([[[[ 1.,  2.,  1.,  2.,  1.,  1.],\n",
       "          [ 2.,  4.,  2.,  4.,  2.,  2.],\n",
       "          [ 1.,  2.,  1.,  2.,  1.,  1.],\n",
       "          [ 2.,  4.,  2.,  4.,  2.,  2.],\n",
       "          [ 1.,  2.,  1.,  2.,  1.,  1.],\n",
       "          [ 1.,  2.,  1.,  2.,  1.,  1.]]]])"
      ]
     },
     "execution_count": 26,
     "metadata": {},
     "output_type": "execute_result"
    }
   ],
   "source": [
    "transpose = nn.ConvTranspose2d(in_channels=1, out_channels=1, kernel_size=3, stride=2, padding=1, output_padding=1, bias=False)\n",
    "init.constant_(transpose.weight.data,1)\n",
    "transpose(img)"
   ]
  },
  {
   "cell_type": "code",
   "execution_count": null,
   "metadata": {},
   "outputs": [],
   "source": []
  }
 ],
 "metadata": {
  "kernelspec": {
   "display_name": "Python [default]",
   "language": "python",
   "name": "python3"
  },
  "language_info": {
   "codemirror_mode": {
    "name": "ipython",
    "version": 3
   },
   "file_extension": ".py",
   "mimetype": "text/x-python",
   "name": "python",
   "nbconvert_exporter": "python",
   "pygments_lexer": "ipython3",
   "version": "3.6.5"
  }
 },
 "nbformat": 4,
 "nbformat_minor": 2
}
