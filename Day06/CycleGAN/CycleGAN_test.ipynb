{
 "cells": [
  {
   "cell_type": "code",
   "execution_count": null,
   "metadata": {
    "collapsed": true
   },
   "outputs": [],
   "source": [
    "import torch\n",
    "from torchvision import transforms\n",
    "from torch.autograd import Variable\n",
    "from dataset import DatasetFromFolder\n",
    "from model import Generator\n",
    "import utils\n",
    "import argparse\n",
    "import os\n",
    "\n",
    "parser = argparse.ArgumentParser()\n",
    "parser.add_argument('--dataset', required=False, default='horse2zebra', help='input dataset')\n",
    "parser.add_argument('--batch_size', type=int, default=1, help='test batch size')\n",
    "parser.add_argument('--ngf', type=int, default=32)\n",
    "parser.add_argument('--num_resnet', type=int, default=9, help='number of resnet blocks in generator')\n",
    "parser.add_argument('--input_size', type=int, default=256, help='input size')\n",
    "params = parser.parse_args([])\n",
    "print(params)\n",
    "\n",
    "# Directories for loading data and saving results\n",
    "data_dir = 'data/' + params.dataset + '/'\n",
    "save_dir = params.dataset + '_test_results/'\n",
    "model_dir = params.dataset + '_model/'\n",
    "\n",
    "if not os.path.exists(save_dir):\n",
    "    os.mkdir(save_dir)\n",
    "if not os.path.exists(model_dir):\n",
    "    os.mkdir(model_dir)"
   ]
  },
  {
   "cell_type": "code",
   "execution_count": null,
   "metadata": {
    "collapsed": true
   },
   "outputs": [],
   "source": [
    "# Data pre-processing\n",
    "transform = transforms.Compose([transforms.Scale(params.input_size),\n",
    "                                transforms.ToTensor(),\n",
    "                                transforms.Normalize(mean=(0.5, 0.5, 0.5), std=(0.5, 0.5, 0.5))])\n",
    "\n",
    "# Test data\n",
    "test_data_A = DatasetFromFolder(data_dir, subfolder='testA', transform=transform)\n",
    "test_data_loader_A = torch.utils.data.DataLoader(dataset=test_data_A,\n",
    "                                                 batch_size=params.batch_size,\n",
    "                                                 shuffle=False)\n",
    "test_data_B = DatasetFromFolder(data_dir, subfolder='testB', transform=transform)\n",
    "test_data_loader_B = torch.utils.data.DataLoader(dataset=test_data_B,\n",
    "                                                 batch_size=params.batch_size,\n",
    "                                                 shuffle=False)"
   ]
  },
  {
   "cell_type": "code",
   "execution_count": null,
   "metadata": {
    "collapsed": true
   },
   "outputs": [],
   "source": [
    "# Load model\n",
    "G_A = Generator(3, params.ngf, 3, params.num_resnet)\n",
    "G_B = Generator(3, params.ngf, 3, params.num_resnet)\n",
    "G_A.cuda()\n",
    "G_B.cuda()\n",
    "G_A.load_state_dict(torch.load(model_dir + 'generator_A_param.pkl'))\n",
    "G_B.load_state_dict(torch.load(model_dir + 'generator_B_param.pkl'))"
   ]
  },
  {
   "cell_type": "code",
   "execution_count": null,
   "metadata": {
    "collapsed": true
   },
   "outputs": [],
   "source": [
    "# Test\n",
    "for i, real_A in enumerate(test_data_loader_A):\n",
    "\n",
    "    # input image data\n",
    "    real_A = Variable(real_A.cuda())\n",
    "\n",
    "    # A -> B -> A\n",
    "    fake_B = G_A(real_A)\n",
    "    recon_A = G_B(fake_B)\n",
    "\n",
    "    # Show result for test data\n",
    "    utils.plot_test_result(real_A, fake_B, recon_A, i, save=True, save_dir=save_dir + 'AtoB/')\n",
    "\n",
    "    print('%d images are generated.' % (i + 1))\n",
    "\n",
    "for i, real_B in enumerate(test_data_loader_B):\n",
    "\n",
    "    # input image data\n",
    "    real_B = Variable(real_B.cuda())\n",
    "\n",
    "    # B -> A -> B\n",
    "    fake_A = G_B(real_B)\n",
    "    recon_B = G_A(fake_A)\n",
    "\n",
    "    # Show result for test data\n",
    "    utils.plot_test_result(real_B, fake_A, recon_B, i, save=True, save_dir=save_dir + 'BtoA/')\n",
    "\n",
    "    print('%d images are generated.' % (i + 1))"
   ]
  }
 ],
 "metadata": {
  "kernelspec": {
   "display_name": "Python 3",
   "language": "python",
   "name": "python3"
  },
  "language_info": {
   "codemirror_mode": {
    "name": "ipython",
    "version": 3
   },
   "file_extension": ".py",
   "mimetype": "text/x-python",
   "name": "python",
   "nbconvert_exporter": "python",
   "pygments_lexer": "ipython3",
   "version": "3.6.3"
  }
 },
 "nbformat": 4,
 "nbformat_minor": 2
}
