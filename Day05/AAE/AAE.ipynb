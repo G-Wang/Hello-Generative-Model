{
 "cells": [
  {
   "cell_type": "markdown",
   "metadata": {},
   "source": [
    "# Adversarial (Variational) AutoEncoder"
   ]
  },
  {
   "cell_type": "code",
   "execution_count": 6,
   "metadata": {
    "ExecuteTime": {
     "end_time": "2018-01-12T16:51:05.645121Z",
     "start_time": "2018-01-12T16:51:03.725793Z"
    }
   },
   "outputs": [],
   "source": [
    "import torch\n",
    "import torch.nn\n",
    "import torch.nn.functional as nn\n",
    "import torch.autograd as autograd\n",
    "import torch.optim as optim\n",
    "import numpy as np\n",
    "import matplotlib.pyplot as plt\n",
    "import matplotlib.gridspec as gridspec\n",
    "import os\n",
    "from torch.autograd import Variable\n",
    "from tensorflow.examples.tutorials.mnist import input_data"
   ]
  },
  {
   "cell_type": "markdown",
   "metadata": {},
   "source": [
    "## Hyperparameters"
   ]
  },
  {
   "cell_type": "code",
   "execution_count": 7,
   "metadata": {
    "ExecuteTime": {
     "end_time": "2018-01-12T16:51:05.650763Z",
     "start_time": "2018-01-12T16:51:05.646964Z"
    }
   },
   "outputs": [],
   "source": [
    "mb_size = 32\n",
    "z_dim = 5\n",
    "h_dim = 128\n",
    "cnt = 0\n",
    "lr = 1e-3"
   ]
  },
  {
   "cell_type": "markdown",
   "metadata": {},
   "source": [
    "## Dataset"
   ]
  },
  {
   "cell_type": "code",
   "execution_count": 8,
   "metadata": {
    "ExecuteTime": {
     "end_time": "2018-01-12T16:51:06.203790Z",
     "start_time": "2018-01-12T16:51:05.652506Z"
    }
   },
   "outputs": [
    {
     "name": "stdout",
     "output_type": "stream",
     "text": [
      "Extracting ../dataset/raw/train-images-idx3-ubyte.gz\n",
      "Extracting ../dataset/raw/train-labels-idx1-ubyte.gz\n",
      "Extracting ../dataset/raw/t10k-images-idx3-ubyte.gz\n",
      "Extracting ../dataset/raw/t10k-labels-idx1-ubyte.gz\n"
     ]
    }
   ],
   "source": [
    "mnist = input_data.read_data_sets('../dataset/raw', one_hot=True)\n",
    "X_dim = mnist.train.images.shape[1]\n",
    "y_dim = mnist.train.labels.shape[1]"
   ]
  },
  {
   "cell_type": "markdown",
   "metadata": {},
   "source": [
    "## Architecture"
   ]
  },
  {
   "cell_type": "code",
   "execution_count": 9,
   "metadata": {
    "ExecuteTime": {
     "start_time": "2018-01-12T16:52:16.999Z"
    }
   },
   "outputs": [],
   "source": [
    "# Encoder\n",
    "Q = torch.nn.Sequential(\n",
    "    torch.nn.Linear(X_dim, h_dim),\n",
    "    torch.nn.ReLU(),\n",
    "    torch.nn.Linear(h_dim, z_dim)\n",
    ").cuda()\n",
    "\n",
    "# Decoder\n",
    "P = torch.nn.Sequential(\n",
    "    torch.nn.Linear(z_dim, h_dim),\n",
    "    torch.nn.ReLU(),\n",
    "    torch.nn.Linear(h_dim, X_dim),\n",
    "    torch.nn.Sigmoid()\n",
    ").cuda()\n",
    "\n",
    "# Discriminator\n",
    "D = torch.nn.Sequential(\n",
    "    torch.nn.Linear(z_dim, h_dim),\n",
    "    torch.nn.ReLU(),\n",
    "    torch.nn.Linear(h_dim, 1),\n",
    "    torch.nn.Sigmoid()\n",
    ").cuda()\n",
    "\n",
    "def reset_grad():\n",
    "    Q.zero_grad()\n",
    "    P.zero_grad()\n",
    "    D.zero_grad()"
   ]
  },
  {
   "cell_type": "markdown",
   "metadata": {},
   "source": [
    "# Training"
   ]
  },
  {
   "cell_type": "code",
   "execution_count": null,
   "metadata": {
    "ExecuteTime": {
     "start_time": "2018-01-12T16:52:17.253Z"
    }
   },
   "outputs": [
    {
     "name": "stdout",
     "output_type": "stream",
     "text": [
      "Iter-0; D_loss: 1.418; G_loss: 0.6553; recon_loss: 0.6951\n",
      "Iter-1000; D_loss: 1.432; G_loss: 0.6595; recon_loss: 0.2643\n",
      "Iter-2000; D_loss: 1.492; G_loss: 0.617; recon_loss: 0.2402\n",
      "Iter-3000; D_loss: 1.406; G_loss: 0.7088; recon_loss: 0.2351\n",
      "Iter-4000; D_loss: 1.391; G_loss: 0.7011; recon_loss: 0.2006\n",
      "Iter-5000; D_loss: 1.395; G_loss: 0.6994; recon_loss: 0.1826\n",
      "Iter-6000; D_loss: 1.39; G_loss: 0.6938; recon_loss: 0.1626\n",
      "Iter-7000; D_loss: 1.39; G_loss: 0.6988; recon_loss: 0.1623\n",
      "Iter-8000; D_loss: 1.373; G_loss: 0.7082; recon_loss: 0.1502\n",
      "Iter-9000; D_loss: 1.403; G_loss: 0.6876; recon_loss: 0.1793\n",
      "Iter-10000; D_loss: 1.386; G_loss: 0.6903; recon_loss: 0.1541\n",
      "Iter-11000; D_loss: 1.397; G_loss: 0.6744; recon_loss: 0.1693\n",
      "Iter-12000; D_loss: 1.394; G_loss: 0.6821; recon_loss: 0.1707\n",
      "Iter-13000; D_loss: 1.39; G_loss: 0.7085; recon_loss: 0.17\n",
      "Iter-14000; D_loss: 1.377; G_loss: 0.7116; recon_loss: 0.155\n",
      "Iter-15000; D_loss: 1.384; G_loss: 0.6989; recon_loss: 0.1768\n",
      "Iter-16000; D_loss: 1.391; G_loss: 0.6894; recon_loss: 0.1645\n",
      "Iter-17000; D_loss: 1.384; G_loss: 0.7094; recon_loss: 0.1542\n",
      "Iter-18000; D_loss: 1.398; G_loss: 0.6782; recon_loss: 0.1735\n",
      "Iter-19000; D_loss: 1.383; G_loss: 0.6941; recon_loss: 0.1695\n",
      "Iter-20000; D_loss: 1.39; G_loss: 0.694; recon_loss: 0.1486\n",
      "Iter-21000; D_loss: 1.396; G_loss: 0.6953; recon_loss: 0.158\n",
      "Iter-22000; D_loss: 1.396; G_loss: 0.691; recon_loss: 0.1532\n",
      "Iter-23000; D_loss: 1.387; G_loss: 0.6914; recon_loss: 0.1599\n",
      "Iter-24000; D_loss: 1.383; G_loss: 0.7085; recon_loss: 0.1525\n",
      "Iter-25000; D_loss: 1.385; G_loss: 0.6911; recon_loss: 0.1557\n",
      "Iter-26000; D_loss: 1.39; G_loss: 0.7003; recon_loss: 0.1599\n",
      "Iter-27000; D_loss: 1.374; G_loss: 0.6962; recon_loss: 0.1524\n",
      "Iter-28000; D_loss: 1.395; G_loss: 0.6873; recon_loss: 0.1515\n",
      "Iter-29000; D_loss: 1.383; G_loss: 0.6913; recon_loss: 0.1529\n",
      "Iter-30000; D_loss: 1.385; G_loss: 0.6948; recon_loss: 0.1491\n",
      "Iter-31000; D_loss: 1.386; G_loss: 0.6914; recon_loss: 0.1546\n",
      "Iter-32000; D_loss: 1.397; G_loss: 0.6923; recon_loss: 0.1537\n",
      "Iter-33000; D_loss: 1.381; G_loss: 0.6923; recon_loss: 0.1494\n",
      "Iter-34000; D_loss: 1.387; G_loss: 0.6892; recon_loss: 0.1746\n",
      "Iter-35000; D_loss: 1.395; G_loss: 0.6916; recon_loss: 0.1507\n"
     ]
    }
   ],
   "source": [
    "def sample_X(size, include_y=False):\n",
    "    X, y = mnist.train.next_batch(size)\n",
    "    X = Variable(torch.from_numpy(X).cuda())\n",
    "\n",
    "    if include_y:\n",
    "        y = np.argmax(y, axis=1).astype(np.int)\n",
    "        y = Variable(torch.from_numpy(y).cuda())\n",
    "        return X, y\n",
    "    return X\n",
    "\n",
    "Q_solver = optim.Adam(Q.parameters(), lr=lr)\n",
    "P_solver = optim.Adam(P.parameters(), lr=lr)\n",
    "D_solver = optim.Adam(D.parameters(), lr=lr)\n",
    "\n",
    "for it in range(1000000):\n",
    "    X = sample_X(mb_size)\n",
    "\n",
    "    \"\"\" Reconstruction phase \"\"\"\n",
    "    z_sample = Q(X)\n",
    "    X_sample = P(z_sample)\n",
    "\n",
    "    recon_loss = nn.binary_cross_entropy(X_sample, X)\n",
    "\n",
    "    recon_loss.backward()\n",
    "    P_solver.step()\n",
    "    Q_solver.step()\n",
    "    reset_grad()\n",
    "\n",
    "    \"\"\" Regularization phase \"\"\"\n",
    "    # Discriminator\n",
    "    z_real = Variable(torch.randn(mb_size, z_dim).cuda())\n",
    "    z_fake = Q(X)\n",
    "\n",
    "    D_real = D(z_real)\n",
    "    D_fake = D(z_fake)\n",
    "\n",
    "    D_loss = -torch.mean(torch.log(D_real) + torch.log(1 - D_fake))\n",
    "\n",
    "    D_loss.backward()\n",
    "    D_solver.step()\n",
    "    reset_grad()\n",
    "\n",
    "    # Generator\n",
    "    z_fake = Q(X)\n",
    "    D_fake = D(z_fake)\n",
    "\n",
    "    G_loss = -torch.mean(torch.log(D_fake))\n",
    "\n",
    "    G_loss.backward()\n",
    "    Q_solver.step()\n",
    "    reset_grad()\n",
    "\n",
    "    # Print and plot every now and then\n",
    "    if it % 1000 == 0:\n",
    "        print('Iter-{}; D_loss: {:.4}; G_loss: {:.4}; recon_loss: {:.4}'\n",
    "              .format(it, D_loss.data[0], G_loss.data[0], recon_loss.data[0]))\n",
    "\n",
    "        samples = P(z_real).data.cpu().numpy()[:16]\n",
    "\n",
    "        fig = plt.figure(figsize=(4, 4))\n",
    "        gs = gridspec.GridSpec(4, 4)\n",
    "        gs.update(wspace=0.05, hspace=0.05)\n",
    "\n",
    "        for i, sample in enumerate(samples):\n",
    "            ax = plt.subplot(gs[i])\n",
    "            plt.axis('off')\n",
    "            ax.set_xticklabels([])\n",
    "            ax.set_yticklabels([])\n",
    "            ax.set_aspect('equal')\n",
    "            plt.imshow(sample.reshape(28, 28), cmap='Greys_r')\n",
    "\n",
    "        if not os.path.exists('out/'):\n",
    "            os.makedirs('out/')\n",
    "\n",
    "        plt.savefig('out/{}.png'\n",
    "                    .format(str(cnt).zfill(3)), bbox_inches='tight')\n",
    "        cnt += 1\n",
    "        plt.close(fig)"
   ]
  },
  {
   "cell_type": "code",
   "execution_count": null,
   "metadata": {},
   "outputs": [],
   "source": []
  }
 ],
 "metadata": {
  "kernelspec": {
   "display_name": "Python [default]",
   "language": "python",
   "name": "python3"
  },
  "language_info": {
   "codemirror_mode": {
    "name": "ipython",
    "version": 3
   },
   "file_extension": ".py",
   "mimetype": "text/x-python",
   "name": "python",
   "nbconvert_exporter": "python",
   "pygments_lexer": "ipython3",
   "version": "3.6.3"
  }
 },
 "nbformat": 4,
 "nbformat_minor": 2
}
