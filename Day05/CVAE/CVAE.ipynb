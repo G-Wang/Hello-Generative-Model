{
 "cells": [
  {
   "cell_type": "markdown",
   "metadata": {},
   "source": [
    "# Conditional Variational AutoEncoder"
   ]
  },
  {
   "cell_type": "code",
   "execution_count": 1,
   "metadata": {
    "ExecuteTime": {
     "end_time": "2018-01-12T16:50:10.691485Z",
     "start_time": "2018-01-12T16:50:10.685254Z"
    }
   },
   "outputs": [
    {
     "name": "stderr",
     "output_type": "stream",
     "text": [
      "/home/isjeon/anaconda3/envs/py36/lib/python3.6/importlib/_bootstrap.py:219: RuntimeWarning: compiletime version 3.5 of module 'tensorflow.python.framework.fast_tensor_util' does not match runtime version 3.6\n",
      "  return f(*args, **kwds)\n"
     ]
    }
   ],
   "source": [
    "import torch\n",
    "import torch.nn as nn\n",
    "import torch.autograd as autograd\n",
    "import torch.optim as optim\n",
    "import numpy as np\n",
    "import matplotlib.pyplot as plt\n",
    "import matplotlib.gridspec as gridspec\n",
    "import os\n",
    "from torch.autograd import Variable\n",
    "from tensorflow.examples.tutorials.mnist import input_data"
   ]
  },
  {
   "cell_type": "markdown",
   "metadata": {},
   "source": [
    "## Hyperparameters"
   ]
  },
  {
   "cell_type": "code",
   "execution_count": 2,
   "metadata": {
    "ExecuteTime": {
     "end_time": "2018-01-12T16:50:11.287968Z",
     "start_time": "2018-01-12T16:50:11.283181Z"
    }
   },
   "outputs": [],
   "source": [
    "mb_size = 64 # mini-batch size\n",
    "Z_dim = 100 # latent space dimension\n",
    "h_dim = 128 # hidden layer dimension\n",
    "cnt = 0 # output image counter\n",
    "lr = 1e-3 # learning rate"
   ]
  },
  {
   "cell_type": "markdown",
   "metadata": {},
   "source": [
    "## Dataset"
   ]
  },
  {
   "cell_type": "code",
   "execution_count": 3,
   "metadata": {
    "ExecuteTime": {
     "end_time": "2018-01-12T16:50:12.103087Z",
     "start_time": "2018-01-12T16:50:11.613120Z"
    }
   },
   "outputs": [
    {
     "name": "stdout",
     "output_type": "stream",
     "text": [
      "Extracting ../dataset/raw/train-images-idx3-ubyte.gz\n",
      "Extracting ../dataset/raw/train-labels-idx1-ubyte.gz\n",
      "Extracting ../dataset/raw/t10k-images-idx3-ubyte.gz\n",
      "Extracting ../dataset/raw/t10k-labels-idx1-ubyte.gz\n"
     ]
    }
   ],
   "source": [
    "mnist = input_data.read_data_sets('../dataset/raw', one_hot=True) # get MNIST data from TF\n",
    "X_dim = mnist.train.images.shape[1] # X dimension, 784\n",
    "y_dim = mnist.train.labels.shape[1] # Y dimension, 10"
   ]
  },
  {
   "cell_type": "markdown",
   "metadata": {},
   "source": [
    "## Conditional VAE\n",
    "![CVAE](complements/CVAE.png)"
   ]
  },
  {
   "cell_type": "markdown",
   "metadata": {},
   "source": [
    "# Architecture"
   ]
  },
  {
   "cell_type": "code",
   "execution_count": null,
   "metadata": {
    "ExecuteTime": {
     "end_time": "2018-01-12T16:50:12.154087Z",
     "start_time": "2018-01-12T16:50:12.118779Z"
    }
   },
   "outputs": [],
   "source": [
    "# Make Encoder\n",
    "# =============================== Q(z|X) ======================================\n",
    "\n",
    "encoder = nn.Sequential(\n",
    "    nn.Linear(X_dim+y_dim,h_dim),\n",
    "    nn.ReLU(True),\n",
    "    nn.Linear(h_dim,Z_dim*2),\n",
    ")\n",
    "encoder.cuda()\n",
    "\n",
    "def Q(X, c):\n",
    "    inputs = torch.cat([X, c], 1)# (X,y)\n",
    "    z = encoder(inputs)\n",
    "    z_mu = z[:,:Z_dim]\n",
    "    z_var = z[:,Z_dim:]\n",
    "    \n",
    "    return z_mu, z_var\n",
    "\n",
    "def sample_z(mu, log_var):\n",
    "    eps = Variable(torch.randn(mb_size, Z_dim))\n",
    "    return mu + torch.exp(log_var / 2) * eps.cuda()\n",
    "\n",
    "\n",
    "# Make Decoder\n",
    "# =============================== P(X|z) ======================================\n",
    "# (Z,y) -> h\n",
    "decoder = nn.Sequential(\n",
    "    nn.Linear(Z_dim+y_dim,h_dim),\n",
    "    nn.ReLU(True),\n",
    "    nn.Linear(h_dim,X_dim),\n",
    "    nn.Sigmoid()\n",
    ")\n",
    "decoder.cuda()\n",
    "\n",
    "def P(z, c):\n",
    "    inputs = torch.cat([z, c], 1) # (Z,y)\n",
    "    X = decoder(inputs)\n",
    "    return X\n"
   ]
  },
  {
   "cell_type": "markdown",
   "metadata": {},
   "source": [
    "## Total Loss\n",
    "![total_loss](complements/total_loss.JPG)\n",
    "## Reconstruction Loss\n",
    "![reconstruction_loss](complements/reconstruction_loss.JPG)\n",
    "## KLD Loss\n",
    "![KLD2](complements/KLD_analytic2.JPG)\n",
    "![KLD](complements/KLD_analytic.JPG)\n"
   ]
  },
  {
   "cell_type": "markdown",
   "metadata": {},
   "source": [
    "## Training"
   ]
  },
  {
   "cell_type": "code",
   "execution_count": null,
   "metadata": {
    "ExecuteTime": {
     "start_time": "2018-01-12T16:51:25.231Z"
    }
   },
   "outputs": [
    {
     "name": "stdout",
     "output_type": "stream",
     "text": [
      "Iter-0; Loss: 551.7\n",
      "Iter-1000; Loss: 146.9\n",
      "Iter-2000; Loss: 122.3\n",
      "Iter-3000; Loss: 122.0\n",
      "Iter-4000; Loss: 112.3\n",
      "Iter-5000; Loss: 113.2\n",
      "Iter-6000; Loss: 103.6\n",
      "Iter-7000; Loss: 112.4\n",
      "Iter-8000; Loss: 106.1\n",
      "Iter-9000; Loss: 105.5\n",
      "Iter-10000; Loss: 110.0\n",
      "Iter-11000; Loss: 99.58\n",
      "Iter-12000; Loss: 106.3\n",
      "Iter-13000; Loss: 105.5\n",
      "Iter-14000; Loss: 106.1\n",
      "Iter-15000; Loss: 110.6\n",
      "Iter-16000; Loss: 109.4\n",
      "Iter-17000; Loss: 106.5\n",
      "Iter-18000; Loss: 104.4\n",
      "Iter-19000; Loss: 107.8\n",
      "Iter-20000; Loss: 100.7\n",
      "Iter-21000; Loss: 103.6\n",
      "Iter-22000; Loss: 99.52\n",
      "Iter-23000; Loss: 105.7\n",
      "Iter-24000; Loss: 103.4\n",
      "Iter-25000; Loss: 101.9\n",
      "Iter-26000; Loss: 98.77\n",
      "Iter-27000; Loss: 97.7\n",
      "Iter-28000; Loss: 106.0\n",
      "Iter-29000; Loss: 104.3\n",
      "Iter-30000; Loss: 107.6\n",
      "Iter-31000; Loss: 108.2\n",
      "Iter-32000; Loss: 100.2\n",
      "Iter-33000; Loss: 101.3\n",
      "Iter-34000; Loss: 101.9\n",
      "Iter-35000; Loss: 99.33\n",
      "Iter-36000; Loss: 107.4\n",
      "Iter-37000; Loss: 104.4\n",
      "Iter-38000; Loss: 93.82\n",
      "Iter-39000; Loss: 103.2\n",
      "Iter-40000; Loss: 101.4\n",
      "Iter-41000; Loss: 109.3\n",
      "Iter-42000; Loss: 103.4\n",
      "Iter-43000; Loss: 106.8\n",
      "Iter-44000; Loss: 97.88\n",
      "Iter-45000; Loss: 99.8\n",
      "Iter-46000; Loss: 100.3\n",
      "Iter-47000; Loss: 104.6\n",
      "Iter-48000; Loss: 106.2\n",
      "Iter-49000; Loss: 104.9\n",
      "Iter-50000; Loss: 101.3\n",
      "Iter-51000; Loss: 99.03\n",
      "Iter-52000; Loss: 101.9\n",
      "Iter-53000; Loss: 99.19\n",
      "Iter-54000; Loss: 102.1\n"
     ]
    }
   ],
   "source": [
    "# =============================== TRAINING ====================================\n",
    "solver = optim.Adam([{'params':encoder.parameters()},\n",
    "                     {'params':decoder.parameters()}]\n",
    "                    , lr=lr)\n",
    "\n",
    "for it in range(100000):\n",
    "    # get a mini-batch\n",
    "    X, c = mnist.train.next_batch(mb_size)\n",
    "    X = Variable(torch.from_numpy(X)).cuda()\n",
    "    c = Variable(torch.from_numpy(c.astype('float32'))).cuda()\n",
    "\n",
    "    # Forward\n",
    "    z_mu, z_var = Q(X, c)\n",
    "    z = sample_z(z_mu, z_var)\n",
    "    X_sample = P(z, c)\n",
    "\n",
    "    # Loss\n",
    "    recon_loss = nn.functional.binary_cross_entropy(X_sample, X, size_average=False) / mb_size\n",
    "    kl_loss = torch.mean(0.5 * torch.sum(torch.exp(z_var) + z_mu**2 - 1. - z_var, 1))\n",
    "    loss = recon_loss + kl_loss\n",
    "\n",
    "    # Backward\n",
    "    loss.backward()\n",
    "\n",
    "    # Update\n",
    "    solver.step()\n",
    "\n",
    "    # Housekeeping. same as solver.zero_grad()\n",
    "    solver.zero_grad()\n",
    "    \n",
    "    # Print and plot every now and then\n",
    "    if it % 1000 == 0:\n",
    "        print('Iter-{}; Loss: {:.4}'.format(it, loss.data[0]))\n",
    "\n",
    "        c = np.zeros(shape=[mb_size, y_dim], dtype='float32')\n",
    "        c[:, np.random.randint(0, 10)] = 1.\n",
    "        c = Variable(torch.from_numpy(c)).cuda()\n",
    "        z = Variable(torch.randn(mb_size, Z_dim)).cuda()\n",
    "        samples = P(z, c).data.cpu().numpy()[:16]\n",
    "\n",
    "        fig = plt.figure(figsize=(4, 4))\n",
    "        gs = gridspec.GridSpec(4, 4)\n",
    "        gs.update(wspace=0.05, hspace=0.05)\n",
    "\n",
    "        for i, sample in enumerate(samples):\n",
    "            ax = plt.subplot(gs[i])\n",
    "            plt.axis('off')\n",
    "            ax.set_xticklabels([])\n",
    "            ax.set_yticklabels([])\n",
    "            ax.set_aspect('equal')\n",
    "            plt.imshow(sample.reshape(28, 28), cmap='Greys_r')\n",
    "\n",
    "        if not os.path.exists('out/'):\n",
    "            os.makedirs('out/')\n",
    "\n",
    "        plt.savefig('out/{}.png'.format(str(cnt).zfill(3)), bbox_inches='tight')\n",
    "        cnt += 1\n",
    "        plt.close(fig)"
   ]
  },
  {
   "cell_type": "code",
   "execution_count": null,
   "metadata": {},
   "outputs": [],
   "source": []
  },
  {
   "cell_type": "code",
   "execution_count": null,
   "metadata": {},
   "outputs": [],
   "source": []
  }
 ],
 "metadata": {
  "kernelspec": {
   "display_name": "Python [default]",
   "language": "python",
   "name": "python3"
  },
  "language_info": {
   "codemirror_mode": {
    "name": "ipython",
    "version": 3
   },
   "file_extension": ".py",
   "mimetype": "text/x-python",
   "name": "python",
   "nbconvert_exporter": "python",
   "pygments_lexer": "ipython3",
   "version": "3.6.3"
  }
 },
 "nbformat": 4,
 "nbformat_minor": 2
}
