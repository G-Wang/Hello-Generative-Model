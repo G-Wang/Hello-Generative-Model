{
 "cells": [
  {
   "cell_type": "markdown",
   "metadata": {},
   "source": [
    "# MNIST classification with Probabilisitc Neural Network"
   ]
  },
  {
   "cell_type": "markdown",
   "metadata": {},
   "source": [
    "### Import Library"
   ]
  },
  {
   "cell_type": "code",
   "execution_count": 1,
   "metadata": {},
   "outputs": [],
   "source": [
    "# Pytorch Library\n",
    "import torch\n",
    "from torch import nn, optim\n",
    "from torch.autograd import Variable"
   ]
  },
  {
   "cell_type": "code",
   "execution_count": 2,
   "metadata": {},
   "outputs": [],
   "source": [
    "import torchvision.utils as utils\n",
    "import torchvision.datasets as dset\n",
    "import torchvision.transforms as transforms"
   ]
  },
  {
   "cell_type": "code",
   "execution_count": 3,
   "metadata": {},
   "outputs": [
    {
     "data": {
      "text/plain": [
       "<torch._C.Generator at 0x7f54181b57d0>"
      ]
     },
     "execution_count": 3,
     "metadata": {},
     "output_type": "execute_result"
    }
   ],
   "source": [
    "import numpy as np\n",
    "from matplotlib import pyplot as plt\n",
    "%matplotlib inline\n",
    "torch.manual_seed(777)  # reproducibility"
   ]
  },
  {
   "cell_type": "markdown",
   "metadata": {},
   "source": [
    "### Prepare MNIST dataset and dataloader"
   ]
  },
  {
   "cell_type": "code",
   "execution_count": 4,
   "metadata": {},
   "outputs": [
    {
     "name": "stdout",
     "output_type": "stream",
     "text": [
      "number of data 60000\n"
     ]
    }
   ],
   "source": [
    "data = dset.MNIST(\"./\", train=True, transform=transforms.ToTensor(), download=True)\n",
    "print('number of data', len(data))"
   ]
  },
  {
   "cell_type": "code",
   "execution_count": 5,
   "metadata": {
    "collapsed": false
   },
   "outputs": [
    {
     "data": {
      "image/png": "[encoded data removed]",
      "text/plain": [
       "<Figure size 432x288 with 1 Axes>"
      ]
     },
     "metadata": {},
     "output_type": "display_data"
    }
   ],
   "source": [
    "img, label = data[0]\n",
    "#plt.figure(figsize=[6,6])\n",
    "plt.imshow(img.squeeze().numpy(), cmap='gray')\n",
    "plt.show()"
   ]
  },
  {
   "cell_type": "code",
   "execution_count": 6,
   "metadata": {},
   "outputs": [],
   "source": [
    "batch_size = 100\n",
    "data_loader = torch.utils.data.DataLoader(data,batch_size=batch_size, shuffle=True,num_workers=2)"
   ]
  },
  {
   "cell_type": "markdown",
   "metadata": {},
   "source": [
    "### 1. Conventional Fully Connected (FC) Neural Network "
   ]
  },
  {
   "cell_type": "markdown",
   "metadata": {},
   "source": [
    "#### Define Model"
   ]
  },
  {
   "cell_type": "code",
   "execution_count": 7,
   "metadata": {},
   "outputs": [],
   "source": [
    "input_size = 28*28\n",
    "output_size = 10\n",
    "hid1_size = 256\n",
    "hid2_size = 128"
   ]
  },
  {
   "cell_type": "code",
   "execution_count": 8,
   "metadata": {
    "collapsed": true
   },
   "outputs": [
    {
     "data": {
      "text/plain": [
       "FC(\n",
       "  (fc1): Linear(in_features=784, out_features=256)\n",
       "  (fc2): Linear(in_features=256, out_features=128)\n",
       "  (logits): Linear(in_features=128, out_features=10)\n",
       ")"
      ]
     },
     "execution_count": 8,
     "metadata": {},
     "output_type": "execute_result"
    }
   ],
   "source": [
    "class FC(nn.Module):\n",
    "    def __init__(self):\n",
    "        super(FC, self).__init__()\n",
    "        self.fc1 = nn.Linear(input_size, hid1_size)\n",
    "        self.fc2 = nn.Linear(hid1_size, hid2_size)\n",
    "        self.logits = nn.Linear(hid2_size, output_size)\n",
    "    def forward(self, input): # no activation function\n",
    "        output = self.fc1(input)\n",
    "        output = self.fc2(output)\n",
    "        output = self.logits(output)\n",
    "        return output\n",
    "net_fc = FC()\n",
    "net_fc.cuda()"
   ]
  },
  {
   "cell_type": "markdown",
   "metadata": {},
   "source": [
    "#### Train Model"
   ]
  },
  {
   "cell_type": "code",
   "execution_count": 11,
   "metadata": {
    "collapsed": false
   },
   "outputs": [],
   "source": [
    "# Build a convinience function for reuse\n",
    "def train(net):\n",
    "    acc_log = []\n",
    "    loss_log = []\n",
    "    criterion = nn.CrossEntropyLoss()\n",
    "    optimizer = optim.Adam(net.parameters(), lr=0.001)\n",
    "    max_epoch = 30\n",
    "    accuracy = 0\n",
    "    output_frequency = 1\n",
    "    for epoch in range(max_epoch):\n",
    "        for i, (images, labels) in enumerate(data_loader):\n",
    "\n",
    "            optimizer.zero_grad()             # Zero Gradient Container\n",
    "\n",
    "            X = Variable(images.view(-1, input_size).cuda())\n",
    "            Y = Variable(labels.cuda())        # label is not one-hot encoded\n",
    "            logits = net(X)           # Forward Propagation\n",
    "            loss = criterion(logits, Y) # compute cost\n",
    "\n",
    "            loss.backward()                   # compute gradient\n",
    "            optimizer.step()                  # gradient update\n",
    "            \n",
    "            loss_log.append(loss.data[0])\n",
    "            _, idx = logits.cpu().max(dim=1)\n",
    "            accuracy += torch.sum(idx.view(batch_size) == Variable(labels.cpu())).data[0] / batch_size\n",
    "\n",
    "        if epoch%output_frequency == 0:\n",
    "            accuracy /= 60000/batch_size\n",
    "            acc_log.append(accuracy)\n",
    "            print(\"epoch {}, loss {}, accuracy {:6.4f}\".format(epoch, loss.data[0], accuracy))\n",
    "            accuracy = 0\n",
    "    return acc_log, loss_log"
   ]
  },
  {
   "cell_type": "code",
   "execution_count": 12,
   "metadata": {},
   "outputs": [
    {
     "name": "stdout",
     "output_type": "stream",
     "text": [
      "epoch 0, loss 0.23764990270137787, accuracy 0.8910\n",
      "epoch 1, loss 0.20993880927562714, accuracy 0.9142\n",
      "epoch 2, loss 0.10892612487077713, accuracy 0.9186\n",
      "epoch 3, loss 0.2929283678531647, accuracy 0.9194\n",
      "epoch 4, loss 0.38611236214637756, accuracy 0.9197\n",
      "epoch 5, loss 0.2568453252315521, accuracy 0.9215\n",
      "epoch 6, loss 0.4023921489715576, accuracy 0.9216\n",
      "epoch 7, loss 0.26787498593330383, accuracy 0.9233\n",
      "epoch 8, loss 0.2672083377838135, accuracy 0.9230\n",
      "epoch 9, loss 0.34409064054489136, accuracy 0.9236\n",
      "epoch 10, loss 0.3652152121067047, accuracy 0.9257\n",
      "epoch 11, loss 0.2711235582828522, accuracy 0.9247\n",
      "epoch 12, loss 0.3827792704105377, accuracy 0.9254\n",
      "epoch 13, loss 0.3943594694137573, accuracy 0.9258\n",
      "epoch 14, loss 0.378579705953598, accuracy 0.9251\n",
      "epoch 15, loss 0.23115089535713196, accuracy 0.9258\n",
      "epoch 16, loss 0.3682751953601837, accuracy 0.9266\n",
      "epoch 17, loss 0.2368089109659195, accuracy 0.9277\n",
      "epoch 18, loss 0.3692678213119507, accuracy 0.9270\n",
      "epoch 19, loss 0.24218688905239105, accuracy 0.9258\n",
      "epoch 20, loss 0.41931235790252686, accuracy 0.9284\n",
      "epoch 21, loss 0.2832601070404053, accuracy 0.9289\n",
      "epoch 22, loss 0.18119633197784424, accuracy 0.9284\n",
      "epoch 23, loss 0.2961200773715973, accuracy 0.9286\n",
      "epoch 24, loss 0.2053772509098053, accuracy 0.9284\n",
      "epoch 25, loss 0.2164110541343689, accuracy 0.9290\n",
      "epoch 26, loss 0.1625087857246399, accuracy 0.9290\n",
      "epoch 27, loss 0.20255917310714722, accuracy 0.9298\n",
      "epoch 28, loss 0.36560019850730896, accuracy 0.9295\n",
      "epoch 29, loss 0.17913509905338287, accuracy 0.9291\n"
     ]
    }
   ],
   "source": [
    "acc_fc, loss_fc = train(net_fc)"
   ]
  },
  {
   "cell_type": "markdown",
   "metadata": {},
   "source": [
    "### 2. Neural Network with Gaussian Latent Layer\n",
    "Model NN(x) :\n",
    "\n",
    "- $ a \\sim P(a | \\mu(x),\\sigma(x))$  (x is image input)\n",
    "\n",
    "- $ y = fc2(a) $                     (y is label)\n",
    "\n",
    "Model NN(x) (reparameterization):\n",
    "\n",
    "- $ a=\\mu(x) + \\sigma(x)*\\epsilon$  where $\\epsilon \\sim Gaussian(0,1)$ (reparameterization)\n",
    "\n",
    "- $ y = fc2(a) $                     (y is label)\n",
    "\n",
    "Loss: \n",
    "\n",
    "- $CrossEntropy(y,fc2(a)) + KL(Gaussian(0,1) || Gaussian(\\mu(x),\\sigma(x)))$"
   ]
  },
  {
   "cell_type": "code",
   "execution_count": 13,
   "metadata": {
    "collapsed": false
   },
   "outputs": [
    {
     "data": {
      "text/plain": [
       "Gaussian(\n",
       "  (fc1_mu): Linear(in_features=784, out_features=256)\n",
       "  (fc1_sigma): Linear(in_features=784, out_features=256)\n",
       "  (fc2): Linear(in_features=256, out_features=128)\n",
       "  (logits): Linear(in_features=128, out_features=10)\n",
       ")"
      ]
     },
     "execution_count": 13,
     "metadata": {},
     "output_type": "execute_result"
    }
   ],
   "source": [
    "class Gaussian(nn.Module):\n",
    "    def __init__(self):\n",
    "        super(Gaussian, self).__init__()\n",
    "        self.fc1_mu = nn.Linear(input_size, hid1_size)\n",
    "        self.fc1_sigma = nn.Linear(input_size, hid1_size)\n",
    "        self.fc2 = nn.Linear(hid1_size, hid2_size)\n",
    "        self.logits = nn.Linear(hid2_size, output_size)\n",
    "    def forward(self, input): # no activation function\n",
    "        mu = self.fc1_mu(input)\n",
    "        sigma = self.fc1_sigma(input)\n",
    "        noise = Variable(torch.randn(mu.size()).cuda())\n",
    "        noise = mu+sigma*noise\n",
    "        output = self.fc2(noise)\n",
    "        output = self.logits(output)\n",
    "        return output, mu, sigma, noise\n",
    "net_gaussian = Gaussian()\n",
    "net_gaussian.cuda()"
   ]
  },
  {
   "cell_type": "markdown",
   "metadata": {},
   "source": [
    "### Train Model"
   ]
  },
  {
   "cell_type": "code",
   "execution_count": 14,
   "metadata": {
    "collapsed": true
   },
   "outputs": [],
   "source": [
    "# Build a convinience function for reuse\n",
    "def train(net):\n",
    "    acc_log = []\n",
    "    loss_log = []\n",
    "    criterion = nn.CrossEntropyLoss()\n",
    "    optimizer = optim.Adam(net.parameters(), lr=0.001)\n",
    "    max_epoch = 30\n",
    "    accuracy = 0\n",
    "    output_frequency = 1\n",
    "    for epoch in range(max_epoch):\n",
    "        for i, (images, labels) in enumerate(data_loader):\n",
    "            optimizer.zero_grad()             # Zero Gradient Container\n",
    "\n",
    "            X = Variable(images.view(-1, input_size).cuda())\n",
    "            Y = Variable(labels.cuda())        # label is not one-hot encoded\n",
    "            logits, mu, sigma, noise = net(X)  # Forward Propagation\n",
    "            loss = criterion(logits, Y)        # compute cost\n",
    "            loss += torch.mean(mu**2 + torch.mean(sigma**2) - torch.log(sigma**2+1e-8) - 1) # latent loss\n",
    "\n",
    "            loss.backward()                   # compute gradient\n",
    "            optimizer.step()                  # gradient update\n",
    "         \n",
    "            loss_log.append(loss.data[0])\n",
    "            _, idx = logits.cpu().max(dim=1)\n",
    "            accuracy += torch.sum(idx.view(batch_size) == Variable(labels.cpu()) ).data[0] / batch_size\n",
    "\n",
    "        if epoch%output_frequency == 0:\n",
    "            accuracy /= 60000/batch_size\n",
    "            acc_log.append(accuracy)\n",
    "            print(\"epoch {}, loss {}, accuracy {:6.4f}\".format(epoch, loss.data[0], accuracy))\n",
    "            accuracy = 0\n",
    "    return acc_log, loss_log\n"
   ]
  },
  {
   "cell_type": "code",
   "execution_count": 15,
   "metadata": {
    "collapsed": false
   },
   "outputs": [
    {
     "name": "stdout",
     "output_type": "stream",
     "text": [
      "epoch 0, loss 0.7934454083442688, accuracy 0.8390\n",
      "epoch 1, loss 0.7169667482376099, accuracy 0.8630\n",
      "epoch 2, loss 0.6467124223709106, accuracy 0.8652\n",
      "epoch 3, loss 0.8012219667434692, accuracy 0.8736\n",
      "epoch 4, loss 0.556667685508728, accuracy 0.8784\n",
      "epoch 5, loss 0.6861320734024048, accuracy 0.8815\n",
      "epoch 6, loss 0.49663400650024414, accuracy 0.8882\n",
      "epoch 7, loss 0.4779479503631592, accuracy 0.8902\n",
      "epoch 8, loss 0.5866430997848511, accuracy 0.8895\n",
      "epoch 9, loss 0.6952852010726929, accuracy 0.8935\n",
      "epoch 10, loss 0.5619927048683167, accuracy 0.8938\n",
      "epoch 11, loss 0.6080739498138428, accuracy 0.8963\n",
      "epoch 12, loss 0.601439356803894, accuracy 0.8977\n",
      "epoch 13, loss 0.7208041548728943, accuracy 0.8988\n",
      "epoch 14, loss 0.48432832956314087, accuracy 0.8987\n",
      "epoch 15, loss 0.4339597225189209, accuracy 0.8997\n",
      "epoch 16, loss 0.5225526094436646, accuracy 0.9020\n",
      "epoch 17, loss 0.4287128448486328, accuracy 0.9012\n",
      "epoch 18, loss 0.6164281368255615, accuracy 0.9015\n",
      "epoch 19, loss 0.5110635161399841, accuracy 0.9033\n",
      "epoch 20, loss 0.5400339365005493, accuracy 0.9054\n",
      "epoch 21, loss 0.5059372186660767, accuracy 0.9032\n",
      "epoch 22, loss 0.4262547492980957, accuracy 0.9034\n",
      "epoch 23, loss 0.7118319869041443, accuracy 0.9041\n",
      "epoch 24, loss 0.35961323976516724, accuracy 0.9039\n",
      "epoch 25, loss 0.5180211663246155, accuracy 0.9047\n",
      "epoch 26, loss 0.3877521753311157, accuracy 0.9052\n",
      "epoch 27, loss 0.47889965772628784, accuracy 0.9051\n",
      "epoch 28, loss 0.5128096342086792, accuracy 0.9036\n",
      "epoch 29, loss 0.5499443411827087, accuracy 0.9061\n"
     ]
    }
   ],
   "source": [
    "acc_gaussian, loss_gaussian = train(net_gaussian)"
   ]
  },
  {
   "cell_type": "markdown",
   "metadata": {},
   "source": [
    "### 3. Zero-centered Uniform Latent Net\n",
    "Model NN(x) :\n",
    "\n",
    "- $ a \\sim P(a | \\mu(x),\\sigma(x))$  (x is image input)\n",
    "\n",
    "- $ y = fc2(a) $                     (y is label)\n",
    "\n",
    "Model NN(x) (reparameterization):\n",
    "\n",
    "- $ a=\\mu(x) + \\sigma(x)*\\epsilon$  where $\\epsilon \\sim Uniform(-0.5,0.5)$ (reparameterization)\n",
    "\n",
    "- $ y = fc2(a) $                     (y is label)\n",
    "\n",
    "Loss: \n",
    "\n",
    "- $CrossEntropy(y,fc2(a)) + KL(Gaussian(0,1) || Gaussian(\\mu(x),\\sigma(x)))$"
   ]
  },
  {
   "cell_type": "code",
   "execution_count": 16,
   "metadata": {
    "collapsed": true
   },
   "outputs": [
    {
     "data": {
      "text/plain": [
       "Uniform(\n",
       "  (fc1_mu): Linear(in_features=784, out_features=256)\n",
       "  (fc1_sigma): Linear(in_features=784, out_features=256)\n",
       "  (fc2): Linear(in_features=256, out_features=128)\n",
       "  (logits): Linear(in_features=128, out_features=10)\n",
       ")"
      ]
     },
     "execution_count": 16,
     "metadata": {},
     "output_type": "execute_result"
    }
   ],
   "source": [
    "class Uniform(nn.Module):\n",
    "    def __init__(self):\n",
    "        super(Uniform, self).__init__()\n",
    "        self.fc1_mu = nn.Linear(input_size, hid1_size)\n",
    "        self.fc1_sigma = nn.Linear(input_size, hid1_size)\n",
    "        self.fc2 = nn.Linear(hid1_size, hid2_size)\n",
    "        self.logits = nn.Linear(hid2_size, output_size)\n",
    "    def forward(self, input): # no activation function\n",
    "        mu = self.fc1_mu(input)\n",
    "        sigma = self.fc1_sigma(input)\n",
    "        noise = Variable(torch.rand(mu.size()).cuda()-0.5)\n",
    "        noise = mu+sigma*noise\n",
    "        output = self.fc2(noise)\n",
    "        output = self.logits(output)\n",
    "        return output, mu, sigma, noise\n",
    "net_uniform = Uniform()\n",
    "net_uniform.cuda()"
   ]
  },
  {
   "cell_type": "code",
   "execution_count": 17,
   "metadata": {
    "collapsed": false
   },
   "outputs": [
    {
     "name": "stdout",
     "output_type": "stream",
     "text": [
      "epoch 0, loss 0.42039206624031067, accuracy 0.8788\n",
      "epoch 1, loss 0.5532817840576172, accuracy 0.8971\n",
      "epoch 2, loss 0.5004416108131409, accuracy 0.9004\n",
      "epoch 3, loss 0.5124531388282776, accuracy 0.9013\n",
      "epoch 4, loss 0.5139853954315186, accuracy 0.9018\n",
      "epoch 5, loss 0.5096428394317627, accuracy 0.9032\n",
      "epoch 6, loss 0.41284507513046265, accuracy 0.9043\n",
      "epoch 7, loss 0.33282092213630676, accuracy 0.9056\n",
      "epoch 8, loss 0.36382216215133667, accuracy 0.9069\n",
      "epoch 9, loss 0.40997591614723206, accuracy 0.9074\n",
      "epoch 10, loss 0.5212807655334473, accuracy 0.9083\n",
      "epoch 11, loss 0.35169321298599243, accuracy 0.9081\n",
      "epoch 12, loss 0.372749924659729, accuracy 0.9093\n",
      "epoch 13, loss 0.4696681499481201, accuracy 0.9095\n",
      "epoch 14, loss 0.3263701796531677, accuracy 0.9092\n",
      "epoch 15, loss 0.3730491101741791, accuracy 0.9121\n",
      "epoch 16, loss 0.6455100774765015, accuracy 0.9128\n",
      "epoch 17, loss 0.5663498640060425, accuracy 0.9120\n",
      "epoch 18, loss 0.35642945766448975, accuracy 0.9122\n",
      "epoch 19, loss 0.4218711256980896, accuracy 0.9140\n",
      "epoch 20, loss 0.2942377030849457, accuracy 0.9127\n",
      "epoch 21, loss 0.3280959725379944, accuracy 0.9116\n",
      "epoch 22, loss 0.3486679196357727, accuracy 0.9132\n",
      "epoch 23, loss 0.3330272436141968, accuracy 0.9139\n",
      "epoch 24, loss 0.30017536878585815, accuracy 0.9133\n",
      "epoch 25, loss 0.4166782796382904, accuracy 0.9137\n",
      "epoch 26, loss 0.7967168688774109, accuracy 0.9165\n",
      "epoch 27, loss 0.26400819420814514, accuracy 0.9142\n",
      "epoch 28, loss 0.47528886795043945, accuracy 0.9146\n",
      "epoch 29, loss 0.4233776926994324, accuracy 0.9154\n"
     ]
    }
   ],
   "source": [
    "acc_uniform, loss_uniform = train(net_uniform)"
   ]
  },
  {
   "cell_type": "markdown",
   "metadata": {},
   "source": [
    "### Compare training loss and accuracy of 1, 2 and 3"
   ]
  },
  {
   "cell_type": "code",
   "execution_count": 21,
   "metadata": {
    "collapsed": false
   },
   "outputs": [
    {
     "data": {
      "text/plain": [
       "Text(0,0.5,'loss')"
      ]
     },
     "execution_count": 21,
     "metadata": {},
     "output_type": "execute_result"
    },
    {
     "data": {
      "image/png": "[encoded data removed]",
      "text/plain": [
       "<Figure size 720x432 with 1 Axes>"
      ]
     },
     "metadata": {},
     "output_type": "display_data"
    }
   ],
   "source": [
    "plt.figure(figsize=[10,6])\n",
    "for loss in [loss_gaussian, loss_uniform, loss_fc]:\n",
    "    plt.plot(np.convolve(loss, np.ones(30)))\n",
    "plt.xlim([0,15000])\n",
    "plt.ylim([0,50])\n",
    "plt.legend(['Gaussian','Uniform','FC'])\n",
    "plt.title('training loss (time-averaged)')\n",
    "plt.xlabel('iteration')\n",
    "plt.ylabel('loss')"
   ]
  },
  {
   "cell_type": "code",
   "execution_count": 19,
   "metadata": {
    "collapsed": false
   },
   "outputs": [
    {
     "data": {
      "text/plain": [
       "Text(0,0.5,'accuracy')"
      ]
     },
     "execution_count": 19,
     "metadata": {},
     "output_type": "execute_result"
    },
    {
     "data": {
      "image/png": "[encoded data removed]",
      "text/plain": [
       "<Figure size 720x432 with 1 Axes>"
      ]
     },
     "metadata": {},
     "output_type": "display_data"
    }
   ],
   "source": [
    "plt.figure(figsize=[10,6])\n",
    "for acc in [acc_gaussian, acc_uniform, acc_fc]:\n",
    "    plt.plot(range(30), acc,'-d')\n",
    "\n",
    "plt.legend(['Gaussian','Uniform','FC'])\n",
    "plt.title('training accuracy')\n",
    "plt.xlabel('epoch')\n",
    "plt.ylabel('accuracy')"
   ]
  }
 ],
 "metadata": {
  "kernelspec": {
   "display_name": "Python [conda env:py36]",
   "language": "python",
   "name": "conda-env-py36-py"
  },
  "language_info": {
   "codemirror_mode": {
    "name": "ipython",
    "version": 3
   },
   "file_extension": ".py",
   "mimetype": "text/x-python",
   "name": "python",
   "nbconvert_exporter": "python",
   "pygments_lexer": "ipython3",
   "version": "3.6.3"
  }
 },
 "nbformat": 4,
 "nbformat_minor": 2
}
