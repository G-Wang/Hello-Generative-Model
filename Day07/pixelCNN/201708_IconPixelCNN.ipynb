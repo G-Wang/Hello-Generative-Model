{
 "cells": [
  {
   "cell_type": "code",
   "execution_count": 3,
   "metadata": {
    "collapsed": true
   },
   "outputs": [],
   "source": [
    "import numpy as np\n",
    "from matplotlib import pyplot as plt\n",
    "\n",
    "def show_as_image(binary_image, figsize=(10, 5)):\n",
    "    plt.figure(figsize=figsize)\n",
    "    plt.imshow(binary_image, cmap='gray')\n",
    "    plt.xticks([]); plt.yticks([])\n",
    "\n",
    "%matplotlib inline"
   ]
  },
  {
   "cell_type": "code",
   "execution_count": 6,
   "metadata": {},
   "outputs": [
    {
     "name": "stdout",
     "output_type": "stream",
     "text": [
      "mkdir: cannot create directory ‘./data’: File exists\r\n",
      "mkdir: cannot create directory ‘./data/all’: File exists\r\n"
     ]
    }
   ],
   "source": [
    "! mkdir ./data\n",
    "! mkdir ./data/all\n",
    "# git clone git@github.com:encharm/Font-Awesome-SVG-PNG.git\n",
    "! cp ./Font-Awesome-SVG-PNG/black/png/16/* ./data/all"
   ]
  },
  {
   "cell_type": "code",
   "execution_count": 8,
   "metadata": {},
   "outputs": [
    {
     "data": {
      "image/png": "[encoded data removed]",
      "text/plain": [
       "<Figure size 1152x1224 with 1 Axes>"
      ]
     },
     "metadata": {},
     "output_type": "display_data"
    }
   ],
   "source": [
    "from torchvision import datasets\n",
    "from torch.utils.data import Dataset, DataLoader\n",
    "from torch.utils.data.sampler import RandomSampler, SubsetRandomSampler\n",
    "from torchvision import transforms\n",
    "from PIL import Image\n",
    "\n",
    "la_loader = lambda _: Image.open(_).convert('LA')\n",
    "\n",
    "image_dataset = datasets.folder.ImageFolder(\n",
    "    './data', \n",
    "    transform=transforms.Lambda(lambda image: transforms.ToTensor()(image.crop(box=(0, 0, 16, 16)))[1:, :, :] > .5),\n",
    "    loader=la_loader)\n",
    "\n",
    "batch_images, labels = next(b for b in DataLoader(image_dataset, sampler=RandomSampler(image_dataset), batch_size=144))\n",
    "\n",
    "def batch_images_to_one(batches_images):\n",
    "    n_square_elements = int(np.sqrt(batches_images.shape[0]))\n",
    "    rows_images = np.split(np.squeeze(batches_images), n_square_elements)\n",
    "    return np.vstack([np.hstack(row_images) for row_images in rows_images])\n",
    "\n",
    "show_as_image(batch_images_to_one(batch_images.numpy()), figsize=(16, 17))\n"
   ]
  },
  {
   "cell_type": "code",
   "execution_count": 9,
   "metadata": {
    "collapsed": true
   },
   "outputs": [],
   "source": [
    "import torch\n",
    "import torch.nn as nn\n",
    "from torch.autograd import Variable\n",
    "\n",
    "\n",
    "class MaskedConv2d(nn.Conv2d):\n",
    "    def __init__(self, mask_type, *args, **kwargs):\n",
    "        super(MaskedConv2d, self).__init__(*args, **kwargs)\n",
    "        assert mask_type in {'A', 'B'}\n",
    "        self.register_buffer('mask', self.weight.data.clone())\n",
    "        _, _, kH, kW = self.weight.size()\n",
    "        self.mask.fill_(1)\n",
    "        self.mask[:, :, kH // 2, kW // 2 + (mask_type == 'B'):] = 0\n",
    "        self.mask[:, :, kH // 2 + 1:] = 0\n",
    "\n",
    "    def forward(self, x):\n",
    "        self.weight.data *= self.mask\n",
    "        return super(MaskedConv2d, self).forward(x)\n",
    "    \n",
    "class PixelCNN(nn.Module):\n",
    "    n_channels = 16\n",
    "    kernel_size = 7\n",
    "    padding = 3\n",
    "    n_pixels_out = 2 # binary 0/1 pixels\n",
    "\n",
    "    def __init__(self):\n",
    "        super(PixelCNN, self).__init__()\n",
    "        self.layers = nn.Sequential(\n",
    "            MaskedConv2d('A', in_channels=1, out_channels=self.n_channels, kernel_size=self.kernel_size, padding=self.padding, bias=False), nn.BatchNorm2d(self.n_channels), nn.ReLU(True),\n",
    "            MaskedConv2d('B', self.n_channels, self.n_channels, kernel_size=self.kernel_size, padding=self.padding, bias=False), nn.BatchNorm2d(self.n_channels), nn.ReLU(True),\n",
    "            MaskedConv2d('B', self.n_channels, self.n_channels, kernel_size=self.kernel_size, padding=self.padding, bias=False), nn.BatchNorm2d(self.n_channels), nn.ReLU(True),\n",
    "            MaskedConv2d('B', self.n_channels, self.n_channels, kernel_size=self.kernel_size, padding=self.padding, bias=False), nn.BatchNorm2d(self.n_channels), nn.ReLU(True),\n",
    "            MaskedConv2d('B', self.n_channels, self.n_channels, kernel_size=self.kernel_size, padding=self.padding, bias=False), nn.BatchNorm2d(self.n_channels), nn.ReLU(True),\n",
    "            nn.Conv2d(in_channels=self.n_channels, out_channels=self.n_pixels_out, kernel_size=1)\n",
    "        )\n",
    "\n",
    "    def forward(self, x):\n",
    "        pixel_logits = self.layers(x)\n",
    "        return pixel_logits"
   ]
  },
  {
   "cell_type": "code",
   "execution_count": 10,
   "metadata": {},
   "outputs": [
    {
     "name": "stdout",
     "output_type": "stream",
     "text": [
      "Epoch [1/80], Train loss: 0.6220, Test loss: 0.5979\n",
      "Epoch [2/80], Train loss: 0.5529, Test loss: 0.5436\n",
      "Epoch [3/80], Train loss: 0.5095, Test loss: 0.5109\n",
      "Epoch [4/80], Train loss: 0.4821, Test loss: 0.4932\n",
      "Epoch [5/80], Train loss: 0.4747, Test loss: 0.4749\n",
      "Epoch [6/80], Train loss: 0.4625, Test loss: 0.4694\n",
      "Epoch [7/80], Train loss: 0.4536, Test loss: 0.4532\n",
      "Epoch [8/80], Train loss: 0.4238, Test loss: 0.4269\n",
      "Epoch [9/80], Train loss: 0.4098, Test loss: 0.4008\n",
      "Epoch [10/80], Train loss: 0.3794, Test loss: 0.3746\n",
      "Epoch [11/80], Train loss: 0.3373, Test loss: 0.3518\n",
      "Epoch [12/80], Train loss: 0.3245, Test loss: 0.3351\n",
      "Epoch [13/80], Train loss: 0.3059, Test loss: 0.3162\n",
      "Epoch [14/80], Train loss: 0.2965, Test loss: 0.3024\n",
      "Epoch [15/80], Train loss: 0.2744, Test loss: 0.2890\n",
      "Epoch [16/80], Train loss: 0.2692, Test loss: 0.2841\n",
      "Epoch [17/80], Train loss: 0.2699, Test loss: 0.2779\n",
      "Epoch [18/80], Train loss: 0.2557, Test loss: 0.2698\n",
      "Epoch [19/80], Train loss: 0.2440, Test loss: 0.2684\n",
      "Epoch [20/80], Train loss: 0.2395, Test loss: 0.2637\n",
      "Epoch [21/80], Train loss: 0.2369, Test loss: 0.2647\n",
      "Epoch [22/80], Train loss: 0.2426, Test loss: 0.2703\n",
      "Epoch [23/80], Train loss: 0.2295, Test loss: 0.2598\n",
      "Epoch [24/80], Train loss: 0.2187, Test loss: 0.2655\n",
      "Epoch [25/80], Train loss: 0.2290, Test loss: 0.2534\n",
      "Epoch [26/80], Train loss: 0.2185, Test loss: 0.2551\n",
      "Epoch [27/80], Train loss: 0.2126, Test loss: 0.2517\n",
      "Epoch [28/80], Train loss: 0.2220, Test loss: 0.2488\n",
      "Epoch [29/80], Train loss: 0.2195, Test loss: 0.2560\n",
      "Epoch [30/80], Train loss: 0.2172, Test loss: 0.2519\n",
      "Epoch [31/80], Train loss: 0.2135, Test loss: 0.2500\n",
      "Epoch [32/80], Train loss: 0.2102, Test loss: 0.2470\n",
      "Epoch [33/80], Train loss: 0.2081, Test loss: 0.2529\n",
      "Epoch [34/80], Train loss: 0.2023, Test loss: 0.2408\n",
      "Epoch [35/80], Train loss: 0.1928, Test loss: 0.2494\n",
      "Epoch [36/80], Train loss: 0.1917, Test loss: 0.2511\n",
      "Epoch [37/80], Train loss: 0.1937, Test loss: 0.2603\n",
      "Epoch [38/80], Train loss: 0.2038, Test loss: 0.2455\n",
      "Epoch [39/80], Train loss: 0.1953, Test loss: 0.2529\n",
      "Epoch [40/80], Train loss: 0.1946, Test loss: 0.2499\n",
      "Epoch [41/80], Train loss: 0.1834, Test loss: 0.2577\n",
      "Epoch [42/80], Train loss: 0.1932, Test loss: 0.2573\n",
      "Epoch [43/80], Train loss: 0.1787, Test loss: 0.2546\n",
      "Epoch [44/80], Train loss: 0.1917, Test loss: 0.2449\n",
      "Epoch [45/80], Train loss: 0.1779, Test loss: 0.2585\n",
      "Epoch [46/80], Train loss: 0.1838, Test loss: 0.2596\n",
      "Epoch [47/80], Train loss: 0.1796, Test loss: 0.2477\n",
      "Epoch [48/80], Train loss: 0.1807, Test loss: 0.2566\n",
      "Epoch [49/80], Train loss: 0.1761, Test loss: 0.2587\n",
      "Epoch [50/80], Train loss: 0.1763, Test loss: 0.2573\n",
      "Epoch [51/80], Train loss: 0.1724, Test loss: 0.2494\n",
      "Epoch [52/80], Train loss: 0.1632, Test loss: 0.2555\n",
      "Epoch [53/80], Train loss: 0.1649, Test loss: 0.2702\n",
      "Epoch [54/80], Train loss: 0.1564, Test loss: 0.2622\n",
      "Epoch [55/80], Train loss: 0.1607, Test loss: 0.2614\n",
      "Epoch [56/80], Train loss: 0.1680, Test loss: 0.2764\n",
      "Epoch [57/80], Train loss: 0.1719, Test loss: 0.2730\n",
      "Epoch [58/80], Train loss: 0.1634, Test loss: 0.2548\n",
      "Epoch [59/80], Train loss: 0.1509, Test loss: 0.2654\n",
      "Epoch [60/80], Train loss: 0.1630, Test loss: 0.2585\n",
      "Epoch [61/80], Train loss: 0.1589, Test loss: 0.2795\n",
      "Epoch [62/80], Train loss: 0.1543, Test loss: 0.2742\n",
      "Epoch [63/80], Train loss: 0.1511, Test loss: 0.2958\n",
      "Epoch [64/80], Train loss: 0.1501, Test loss: 0.2791\n",
      "Epoch [65/80], Train loss: 0.1499, Test loss: 0.2996\n",
      "Epoch [66/80], Train loss: 0.1441, Test loss: 0.2943\n",
      "Epoch [67/80], Train loss: 0.1461, Test loss: 0.2694\n",
      "Epoch [68/80], Train loss: 0.1411, Test loss: 0.2814\n",
      "Epoch [69/80], Train loss: 0.1437, Test loss: 0.3058\n",
      "Epoch [70/80], Train loss: 0.1440, Test loss: 0.3038\n",
      "Epoch [71/80], Train loss: 0.1479, Test loss: 0.2961\n",
      "Epoch [72/80], Train loss: 0.1321, Test loss: 0.3081\n",
      "Epoch [73/80], Train loss: 0.1498, Test loss: 0.2934\n",
      "Epoch [74/80], Train loss: 0.1337, Test loss: 0.2874\n",
      "Epoch [75/80], Train loss: 0.1324, Test loss: 0.2929\n",
      "Epoch [76/80], Train loss: 0.1276, Test loss: 0.3069\n",
      "Epoch [77/80], Train loss: 0.1452, Test loss: 0.3106\n",
      "Epoch [78/80], Train loss: 0.1379, Test loss: 0.3122\n",
      "Epoch [79/80], Train loss: 0.1457, Test loss: 0.3264\n",
      "Epoch [80/80], Train loss: 0.1335, Test loss: 0.3221\n"
     ]
    }
   ],
   "source": [
    "import torch.nn.functional as F\n",
    "from torch.utils.data.sampler import SubsetRandomSampler\n",
    "\n",
    "\n",
    "N_EPOCHS = 80\n",
    "BATCH_SIZE = 128\n",
    "LR = 0.005\n",
    "TEST_RATIO = .2\n",
    "\n",
    "cnn = PixelCNN()\n",
    "optimizer = torch.optim.Adam(cnn.parameters(), lr=LR)\n",
    "\n",
    "test_indices = np.random.choice(len(image_dataset), size=int(len(image_dataset) * TEST_RATIO), replace=False)\n",
    "train_indices = np.setdiff1d(np.arange(len(image_dataset)), test_indices)\n",
    "train_loader = DataLoader(image_dataset, batch_size=BATCH_SIZE, sampler=SubsetRandomSampler(indices=train_indices))\n",
    "test_loader = DataLoader(image_dataset, batch_size=BATCH_SIZE, sampler=SubsetRandomSampler(indices=test_indices))\n",
    "\n",
    "for epoch in range(N_EPOCHS):\n",
    "    for i, (images, _) in enumerate(train_loader):\n",
    "        images = Variable(images).float()\n",
    "        optimizer.zero_grad()\n",
    "        loss = F.cross_entropy(input=cnn(images), target=torch.squeeze(images).long())\n",
    "        loss.backward()\n",
    "        optimizer.step()\n",
    "        \n",
    "    test_images = Variable(next(i for i, _ in test_loader)).float()\n",
    "    test_loss =F .cross_entropy(input=cnn(test_images), target=torch.squeeze(test_images).long())\n",
    "\n",
    "    print ('Epoch [%d/%d], Train loss: %.4f, Test loss: %.4f'\n",
    "           %(epoch+1, N_EPOCHS, loss.data[0], test_loss.data[0]))"
   ]
  },
  {
   "cell_type": "markdown",
   "metadata": {},
   "source": [
    "## Completing images"
   ]
  },
  {
   "cell_type": "code",
   "execution_count": 16,
   "metadata": {},
   "outputs": [],
   "source": [
    "# pixelCNN로 새로운 샘플 만들기\n",
    "# 어떤 특정한 이미지를 pixelCNN의 input으로 줄 수도 있고 아니면 그냥 zeros를 넣어 줄 수도 있다.\n",
    "# pixelCNN은 input으로 주어진 이미지를 Masked Convolution으로 흝고 지나가면서 자신의 기억속에 존재하는, 가장 그럴듯한 픽셀 값을 예측해 낸다.\n",
    "def generate_samples(n_samples, starting_point=(0, 0), starting_image=None):\n",
    "    samples = torch.from_numpy(\n",
    "        starting_image if starting_image is not None else np.zeros((n_samples * n_samples, 1, IMAGE_WIDTH, IMAGE_HEIGHT))).float()\n",
    "\n",
    "    cnn.train(False)\n",
    "\n",
    "    # pixelCNN이 예측한 pixel-level distribution으로 부터 픽셀 값(0 또는 1)을 샘플링해서 이미지를 만들어 낸다.\n",
    "    for i in range(IMAGE_WIDTH):\n",
    "        for j in range(IMAGE_HEIGHT):\n",
    "            if i < starting_point[0] or (i == starting_point[0] and j < starting_point[1]):\n",
    "                continue\n",
    "            out = cnn(Variable(samples, volatile=True))\n",
    "            probs = F.softmax(out[:, :, i, j]).data\n",
    "            samples[:, :, i, j] = torch.multinomial(probs, 1).float()\n",
    "    return samples.numpy()"
   ]
  },
  {
   "cell_type": "code",
   "execution_count": 19,
   "metadata": {},
   "outputs": [
    {
     "name": "stderr",
     "output_type": "stream",
     "text": [
      "/home/isjeon/anaconda3/envs/py36/lib/python3.6/site-packages/ipykernel/__main__.py:16: UserWarning: Implicit dimension choice for softmax has been deprecated. Change the call to include dim=X as an argument.\n"
     ]
    },
    {
     "data": {
      "image/png": "[encoded data removed]",
      "text/plain": [
       "<Figure size 1152x1224 with 1 Axes>"
      ]
     },
     "metadata": {},
     "output_type": "display_data"
    },
    {
     "data": {
      "image/png": "[encoded data removed]",
      "text/plain": [
       "<Figure size 1152x1224 with 1 Axes>"
      ]
     },
     "metadata": {},
     "output_type": "display_data"
    }
   ],
   "source": [
    "n_images = 12\n",
    "batch_images, labels = next(b for b in train_loader)\n",
    "batch_images = batch_images[:n_images, :, :, :]\n",
    "IMAGE_WIDTH=16\n",
    "IMAGE_HEIGHT=16\n",
    "starting_point = (8, 8)\n",
    "\n",
    "row_grid, col_grid = np.meshgrid(np.arange(16), np.arange(16), indexing='ij')\n",
    "mask = np.logical_or(row_grid < starting_point[0], np.logical_and(row_grid == starting_point[0], col_grid <= starting_point[1]))\n",
    "\n",
    "starting_images = batch_images.numpy().squeeze()\n",
    "batch_starting_images = np.expand_dims(np.stack([i * mask for i in starting_images] * n_images), axis=1)\n",
    "\n",
    "samples = generate_samples(10, starting_image=batch_starting_images, starting_point=starting_point)\n",
    "\n",
    "show_as_image(np.hstack([(1 + mask) * i for i in starting_images]), figsize=(16, 17))\n",
    "\n",
    "show_as_image(\n",
    "    batch_images_to_one((samples * (1 + mask))),\n",
    "    figsize=(16, 17))"
   ]
  },
  {
   "cell_type": "code",
   "execution_count": 22,
   "metadata": {},
   "outputs": [
    {
     "name": "stderr",
     "output_type": "stream",
     "text": [
      "/home/isjeon/anaconda3/envs/py36/lib/python3.6/site-packages/ipykernel/__main__.py:16: UserWarning: Implicit dimension choice for softmax has been deprecated. Change the call to include dim=X as an argument.\n"
     ]
    },
    {
     "data": {
      "image/png": "[encoded data removed]",
      "text/plain": [
       "<Figure size 1152x1224 with 1 Axes>"
      ]
     },
     "metadata": {},
     "output_type": "display_data"
    },
    {
     "data": {
      "image/png": "[encoded data removed]",
      "text/plain": [
       "<Figure size 1152x1224 with 1 Axes>"
      ]
     },
     "metadata": {},
     "output_type": "display_data"
    }
   ],
   "source": [
    "n_images = 12\n",
    "batch_images, labels = next(b for b in test_loader)\n",
    "batch_images = batch_images[:n_images, :, :, :]\n",
    "\n",
    "starting_point = (8, 8)\n",
    "\n",
    "row_grid, col_grid = np.meshgrid(np.arange(IMAGE_WIDTH), np.arange(IMAGE_HEIGHT), indexing='ij')\n",
    "mask = np.logical_or(row_grid < starting_point[0], np.logical_and(row_grid == starting_point[0], col_grid <= starting_point[1]))\n",
    "\n",
    "starting_images = batch_images.numpy().squeeze()\n",
    "batch_starting_images = np.expand_dims(np.stack([i * mask for i in starting_images] * n_images), axis=1)\n",
    "\n",
    "samples = generate_samples(10,starting_image=batch_starting_images, starting_point=starting_point)\n",
    "\n",
    "show_as_image(np.hstack([(1 + mask) * i for i in starting_images]), figsize=(16, 17))\n",
    "\n",
    "show_as_image(\n",
    "    batch_images_to_one((samples * (1 + mask))),\n",
    "    figsize=(16, 17))"
   ]
  },
  {
   "cell_type": "markdown",
   "metadata": {},
   "source": [
    "## Generating new samples"
   ]
  },
  {
   "cell_type": "code",
   "execution_count": null,
   "metadata": {},
   "outputs": [
    {
     "name": "stderr",
     "output_type": "stream",
     "text": [
      "/home/isjeon/anaconda3/envs/py36/lib/python3.6/site-packages/ipykernel/__main__.py:15: UserWarning: Implicit dimension choice for softmax has been deprecated. Change the call to include dim=X as an argument.\n"
     ]
    }
   ],
   "source": [
    "IMAGE_WIDTH, IMAGE_HEIGHT = 16, 16\n",
    "\n",
    "def generate_samples(n_samples=12, starting_point=(0, 0), starting_image=None):\n",
    "\n",
    "    samples = torch.from_numpy(\n",
    "        starting_image if starting_image is not None else np.zeros((n_samples * n_samples, 1, IMAGE_WIDTH, IMAGE_HEIGHT))).float()\n",
    "\n",
    "    cnn.train(False)\n",
    "\n",
    "    for i in range(IMAGE_WIDTH):\n",
    "        for j in range(IMAGE_HEIGHT):\n",
    "            if i < starting_point[0] or (i == starting_point[0] and j < starting_point[1]):\n",
    "                continue\n",
    "            out = cnn(Variable(samples, volatile=True))\n",
    "            probs = F.softmax(out[:, :, i, j]).data\n",
    "            samples[:, :, i, j] = torch.multinomial(probs, 1).float()\n",
    "    return samples.numpy()\n",
    "\n",
    "samples = generate_samples(12)\n",
    "\n",
    "show_as_image(\n",
    "    batch_images_to_one(samples),\n",
    "    figsize=(16, 17))\n"
   ]
  },
  {
   "cell_type": "code",
   "execution_count": null,
   "metadata": {},
   "outputs": [],
   "source": []
  }
 ],
 "metadata": {
  "kernelspec": {
   "display_name": "Python [default]",
   "language": "python",
   "name": "python3"
  },
  "language_info": {
   "codemirror_mode": {
    "name": "ipython",
    "version": 3
   },
   "file_extension": ".py",
   "mimetype": "text/x-python",
   "name": "python",
   "nbconvert_exporter": "python",
   "pygments_lexer": "ipython3",
   "version": "3.6.3"
  }
 },
 "nbformat": 4,
 "nbformat_minor": 2
}
